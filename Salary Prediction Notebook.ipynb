{
 "cells": [
  {
   "cell_type": "markdown",
   "metadata": {},
   "source": [
    "# Salary Predictions Based on Job Descriptions"
   ]
  },
  {
   "cell_type": "markdown",
   "metadata": {},
   "source": [
    "# Part 1 - DEFINE"
   ]
  },
  {
   "cell_type": "markdown",
   "metadata": {},
   "source": [
    "### ---- 1 Define the problem ----"
   ]
  },
  {
   "cell_type": "markdown",
   "metadata": {},
   "source": [
    "PROBLEM: \n",
    "\n",
    "Predict salary of a person given features such as title, education, industry, experience, and distance from metropolis. \n",
    "\n",
    "Will ignore company ID to make the model more generalizable and not just restricted to a set of companies."
   ]
  },
  {
   "cell_type": "code",
   "execution_count": 1,
   "metadata": {},
   "outputs": [
    {
     "data": {
      "text/plain": [
       "['.ipynb_checkpoints',\n",
       " 'Salary Prediction Notebook.ipynb',\n",
       " 'test_features.csv',\n",
       " 'train_features.csv',\n",
       " 'train_salaries.csv']"
      ]
     },
     "execution_count": 1,
     "metadata": {},
     "output_type": "execute_result"
    }
   ],
   "source": [
    "#libraries\n",
    "import pandas as pd\n",
    "import sklearn as sk\n",
    "import numpy as np\n",
    "import matplotlib.pyplot as plt\n",
    "import seaborn as sns\n",
    "import os\n",
    "\n",
    "__author__ = \"Tehseen Niaz\"\n",
    "__email__ = \"tehseenniaz@gmail.com\"\n",
    "\n",
    "os.listdir()"
   ]
  },
  {
   "cell_type": "markdown",
   "metadata": {},
   "source": [
    "## Part 2 - DISCOVER"
   ]
  },
  {
   "cell_type": "markdown",
   "metadata": {},
   "source": [
    "### ---- 2 Load the data ----"
   ]
  },
  {
   "cell_type": "code",
   "execution_count": 2,
   "metadata": {},
   "outputs": [
    {
     "name": "stdout",
     "output_type": "stream",
     "text": [
      "(1000000, 8)\n",
      "(1000000, 2)\n"
     ]
    }
   ],
   "source": [
    "# Load the data into a pandas dataframe\n",
    "\n",
    "full_data = pd.read_csv(\"train_features.csv\")\n",
    "full_salary_data = pd.read_csv('train_salaries.csv')\n",
    "\n",
    "print(full_data.shape) # million observations, eight features\n",
    "print(full_salary_data.shape) # million rows, two features"
   ]
  },
  {
   "cell_type": "markdown",
   "metadata": {},
   "source": [
    "### ---- 3 Clean the data ----"
   ]
  },
  {
   "cell_type": "code",
   "execution_count": 3,
   "metadata": {},
   "outputs": [
    {
     "name": "stdout",
     "output_type": "stream",
     "text": [
      "Null Values:\n",
      " jobId                  0\n",
      "companyId              0\n",
      "jobType                0\n",
      "degree                 0\n",
      "major                  0\n",
      "industry               0\n",
      "yearsExperience        0\n",
      "milesFromMetropolis    0\n",
      "dtype: int64 \n",
      "\n",
      "NA Values:\n",
      " jobId                  0\n",
      "companyId              0\n",
      "jobType                0\n",
      "degree                 0\n",
      "major                  0\n",
      "industry               0\n",
      "yearsExperience        0\n",
      "milesFromMetropolis    0\n",
      "dtype: int64 \n",
      "\n",
      "Duplicates: 0 \n",
      "\n"
     ]
    }
   ],
   "source": [
    "# Look at ALL the data for duplication, invalid data (e.g. salaries <=0), or corrupt data and remove it\n",
    "\n",
    "print(\"Null Values:\\n\", full_data.isnull().sum(), '\\n') # No Null values\n",
    "print(\"NA Values:\\n\", full_data.isna().sum(), '\\n') # No NA values\n",
    "print(\"Duplicates:\", full_data.duplicated().sum(), '\\n') # No duplicated rows"
   ]
  },
  {
   "cell_type": "code",
   "execution_count": 36,
   "metadata": {},
   "outputs": [
    {
     "data": {
      "text/html": [
       "<div>\n",
       "<style scoped>\n",
       "    .dataframe tbody tr th:only-of-type {\n",
       "        vertical-align: middle;\n",
       "    }\n",
       "\n",
       "    .dataframe tbody tr th {\n",
       "        vertical-align: top;\n",
       "    }\n",
       "\n",
       "    .dataframe thead th {\n",
       "        text-align: right;\n",
       "    }\n",
       "</style>\n",
       "<table border=\"1\" class=\"dataframe\">\n",
       "  <thead>\n",
       "    <tr style=\"text-align: right;\">\n",
       "      <th></th>\n",
       "      <th>salary</th>\n",
       "    </tr>\n",
       "  </thead>\n",
       "  <tbody>\n",
       "    <tr>\n",
       "      <th>count</th>\n",
       "      <td>999995.000000</td>\n",
       "    </tr>\n",
       "    <tr>\n",
       "      <th>mean</th>\n",
       "      <td>116.062398</td>\n",
       "    </tr>\n",
       "    <tr>\n",
       "      <th>std</th>\n",
       "      <td>38.717163</td>\n",
       "    </tr>\n",
       "    <tr>\n",
       "      <th>min</th>\n",
       "      <td>17.000000</td>\n",
       "    </tr>\n",
       "    <tr>\n",
       "      <th>25%</th>\n",
       "      <td>88.000000</td>\n",
       "    </tr>\n",
       "    <tr>\n",
       "      <th>50%</th>\n",
       "      <td>114.000000</td>\n",
       "    </tr>\n",
       "    <tr>\n",
       "      <th>75%</th>\n",
       "      <td>141.000000</td>\n",
       "    </tr>\n",
       "    <tr>\n",
       "      <th>max</th>\n",
       "      <td>301.000000</td>\n",
       "    </tr>\n",
       "  </tbody>\n",
       "</table>\n",
       "</div>"
      ],
      "text/plain": [
       "              salary\n",
       "count  999995.000000\n",
       "mean      116.062398\n",
       "std        38.717163\n",
       "min        17.000000\n",
       "25%        88.000000\n",
       "50%       114.000000\n",
       "75%       141.000000\n",
       "max       301.000000"
      ]
     },
     "execution_count": 36,
     "metadata": {},
     "output_type": "execute_result"
    },
    {
     "data": {
      "image/png": "[encoded data removed]",
      "text/plain": [
       "<Figure size 1440x360 with 1 Axes>"
      ]
     },
     "metadata": {
      "needs_background": "light"
     },
     "output_type": "display_data"
    }
   ],
   "source": [
    "# check full salary data for invalid values and remove it\n",
    "\n",
    "# typical salary distribution - bell curve with right-tail skew\n",
    "plt.figure (figsize = (20,5))\n",
    "sns.distplot(full_salary_data['salary'], bins=100)\n",
    "plt.xticks(fontsize=10)\n",
    "plt.yticks(fontsize=10)\n",
    "plt.ylabel('Proportion', fontsize=10)\n",
    "plt.xlabel('Salary', fontsize=10)\n",
    "\n",
    "# summary stats of salaries\n",
    "pd.DataFrame(full_salary_data['salary'].describe())\n",
    "# no illogical values except zero salaries"
   ]
  },
  {
   "cell_type": "code",
   "execution_count": 3,
   "metadata": {},
   "outputs": [
    {
     "data": {
      "text/plain": [
       "(999995, 2)"
      ]
     },
     "execution_count": 3,
     "metadata": {},
     "output_type": "execute_result"
    }
   ],
   "source": [
    "# Drop zero salary rows\n",
    "zero = full_salary_data[full_salary_data.salary==0]\n",
    "zero.shape # Five rows with zero salary\n",
    "\n",
    "# drop the 5 rows from the full data based on the index of salary data\n",
    "full_data.drop(zero.index, inplace=True)\n",
    "full_data.shape # Five rows deleted\n",
    "\n",
    "# drop the rows from salary data as well\n",
    "full_salary_data.drop(zero.index, inplace=True)\n",
    "full_salary_data.shape # Five rows dropped"
   ]
  },
  {
   "cell_type": "markdown",
   "metadata": {},
   "source": [
    "#### Create training and testing sets for further data analysis and model building"
   ]
  },
  {
   "cell_type": "code",
   "execution_count": 4,
   "metadata": {},
   "outputs": [
    {
     "name": "stdout",
     "output_type": "stream",
     "text": [
      "(749996, 6)\n",
      "(249999, 6)\n",
      "(749996, 1)\n",
      "(249999, 1)\n"
     ]
    },
    {
     "name": "stderr",
     "output_type": "stream",
     "text": [
      "C:\\Users\\tniaz\\Anaconda3\\lib\\site-packages\\pandas\\core\\frame.py:3997: SettingWithCopyWarning: \n",
      "A value is trying to be set on a copy of a slice from a DataFrame\n",
      "\n",
      "See the caveats in the documentation: https://pandas.pydata.org/pandas-docs/stable/user_guide/indexing.html#returning-a-view-versus-a-copy\n",
      "  errors=errors,\n"
     ]
    }
   ],
   "source": [
    "from sklearn.model_selection import train_test_split\n",
    "\n",
    "features, test_features, salaries, test_salaries = train_test_split(full_data, full_salary_data, test_size=0.25, random_state=4)\n",
    "\n",
    "# drop jobId in all sets\n",
    "features.drop('jobId', axis=1, inplace=True)\n",
    "test_features.drop('jobId', axis=1, inplace=True)\n",
    "salaries.drop('jobId', axis=1, inplace=True)\n",
    "test_salaries.drop('jobId', axis=1, inplace=True)\n",
    "\n",
    "# drop companyId in features sets\n",
    "features.drop('companyId', axis=1, inplace=True)\n",
    "test_features.drop('companyId', axis=1, inplace=True)\n",
    "\n",
    "print(features.shape)\n",
    "print(test_features.shape)\n",
    "print(salaries.shape)\n",
    "print(test_salaries.shape)"
   ]
  },
  {
   "cell_type": "markdown",
   "metadata": {},
   "source": [
    "### ---- 4 Explore the data (EDA) ----"
   ]
  },
  {
   "cell_type": "markdown",
   "metadata": {},
   "source": [
    "### 4.1 Explore each categorical feature"
   ]
  },
  {
   "cell_type": "markdown",
   "metadata": {},
   "source": [
    "##### Check JobType"
   ]
  },
  {
   "cell_type": "code",
   "execution_count": 9,
   "metadata": {},
   "outputs": [
    {
     "data": {
      "image/png": "[encoded data removed]",
      "text/plain": [
       "<Figure size 720x360 with 1 Axes>"
      ]
     },
     "metadata": {
      "needs_background": "light"
     },
     "output_type": "display_data"
    }
   ],
   "source": [
    "plt.figure (figsize = (10,5))\n",
    "sns.countplot(features['jobType'])\n",
    "plt.xticks(fontsize=10)\n",
    "plt.yticks(fontsize=10)\n",
    "plt.xlabel('Job type', fontsize=12)\n",
    "plt.ylabel('Frequency', fontsize=12)\n",
    "plt.show()\n",
    "# Job type seems evenly distributed and alright"
   ]
  },
  {
   "cell_type": "markdown",
   "metadata": {},
   "source": [
    "##### Check Degree"
   ]
  },
  {
   "cell_type": "code",
   "execution_count": 8,
   "metadata": {},
   "outputs": [
    {
     "data": {
      "image/png": "[encoded data removed]",
      "text/plain": [
       "<Figure size 720x360 with 1 Axes>"
      ]
     },
     "metadata": {
      "needs_background": "light"
     },
     "output_type": "display_data"
    }
   ],
   "source": [
    "plt.figure (figsize = (10,5))\n",
    "sns.countplot(features['degree'])\n",
    "plt.xticks(fontsize=10)\n",
    "plt.yticks(fontsize=10)\n",
    "plt.xlabel('Degree', fontsize=12)\n",
    "plt.ylabel('Frequency', fontsize=12)\n",
    "plt.show()\n",
    "# No apparent concerns"
   ]
  },
  {
   "cell_type": "markdown",
   "metadata": {},
   "source": [
    "##### Check Major"
   ]
  },
  {
   "cell_type": "code",
   "execution_count": 11,
   "metadata": {},
   "outputs": [
    {
     "data": {
      "image/png": "[encoded data removed]",
      "text/plain": [
       "<Figure size 720x360 with 1 Axes>"
      ]
     },
     "metadata": {
      "needs_background": "light"
     },
     "output_type": "display_data"
    }
   ],
   "source": [
    "plt.figure (figsize = (10,5))\n",
    "sns.countplot(features['major'])\n",
    "plt.xticks(fontsize=9)\n",
    "plt.yticks(fontsize=9)\n",
    "plt.xlabel('Major', fontsize=12)\n",
    "plt.ylabel('Frequency', fontsize=12)\n",
    "plt.show()\n",
    "# Looks consistent because most people had no university education so \"None\" being the mode makes sense"
   ]
  },
  {
   "cell_type": "markdown",
   "metadata": {},
   "source": [
    "##### Check Industry"
   ]
  },
  {
   "cell_type": "code",
   "execution_count": 12,
   "metadata": {},
   "outputs": [
    {
     "data": {
      "image/png": "[encoded data removed]",
      "text/plain": [
       "<Figure size 720x360 with 1 Axes>"
      ]
     },
     "metadata": {
      "needs_background": "light"
     },
     "output_type": "display_data"
    }
   ],
   "source": [
    "plt.figure (figsize = (10,5))\n",
    "sns.countplot(features['industry'])\n",
    "plt.xticks(fontsize=10)\n",
    "plt.yticks(fontsize=10)\n",
    "plt.xlabel('Industry', fontsize=12)\n",
    "plt.ylabel('Frequency', fontsize=12)\n",
    "plt.show()\n",
    "# Very evenly distributed - looks fine"
   ]
  },
  {
   "cell_type": "markdown",
   "metadata": {},
   "source": [
    "##### Check yearsExperience"
   ]
  },
  {
   "cell_type": "code",
   "execution_count": 14,
   "metadata": {},
   "outputs": [
    {
     "data": {
      "text/plain": [
       "<matplotlib.axes._subplots.AxesSubplot at 0x1b21ad80c08>"
      ]
     },
     "execution_count": 14,
     "metadata": {},
     "output_type": "execute_result"
    },
    {
     "data": {
      "image/png": "[encoded data removed]",
      "text/plain": [
       "<Figure size 720x360 with 1 Axes>"
      ]
     },
     "metadata": {
      "needs_background": "light"
     },
     "output_type": "display_data"
    }
   ],
   "source": [
    "plt.figure (figsize = (10,5))\n",
    "sns.countplot(features['yearsExperience'])\n",
    "# Evenly distributed with no apparent concerns"
   ]
  },
  {
   "cell_type": "markdown",
   "metadata": {},
   "source": [
    "##### Check Distance"
   ]
  },
  {
   "cell_type": "code",
   "execution_count": 15,
   "metadata": {},
   "outputs": [
    {
     "data": {
      "text/plain": [
       "99"
      ]
     },
     "execution_count": 15,
     "metadata": {},
     "output_type": "execute_result"
    },
    {
     "data": {
      "image/png": "[encoded data removed]",
      "text/plain": [
       "<Figure size 2160x720 with 1 Axes>"
      ]
     },
     "metadata": {
      "needs_background": "light"
     },
     "output_type": "display_data"
    }
   ],
   "source": [
    "plt.figure (figsize = (30,10))\n",
    "sns.countplot(features['milesFromMetropolis'])\n",
    "df['milesFromMetropolis'].max()\n",
    "# Assuming metropolis means downtown, a bit strange that many people live over 90 miles away from it\n",
    "# But not impossible because suburbs can be 10-50 miles beyond the city limits and the city borders can be another 50 miles from downtown"
   ]
  },
  {
   "cell_type": "markdown",
   "metadata": {},
   "source": [
    "### 4.2 Evaluate each categorical feature against Salary"
   ]
  },
  {
   "cell_type": "code",
   "execution_count": 5,
   "metadata": {},
   "outputs": [],
   "source": [
    "# function for comparing categorical features against Salary\n",
    "def salary_by_feature(feature):\n",
    "    viz_df = features\n",
    "    viz_df['Salary'] = salaries['salary'] # Appending salaries to df for easier EDA\n",
    "    sns.set(style=\"ticks\")\n",
    "    g = sns.catplot(x=feature, y='Salary', data=viz_df, kind='box')\n",
    "    g.fig.set_figwidth(15)\n",
    "    g.fig.set_figheight(7)"
   ]
  },
  {
   "cell_type": "markdown",
   "metadata": {},
   "source": [
    "#### JobType vs Salary"
   ]
  },
  {
   "cell_type": "code",
   "execution_count": 28,
   "metadata": {},
   "outputs": [
    {
     "name": "stderr",
     "output_type": "stream",
     "text": [
      "C:\\Users\\tniaz\\Anaconda3\\lib\\site-packages\\ipykernel_launcher.py:4: SettingWithCopyWarning: \n",
      "A value is trying to be set on a copy of a slice from a DataFrame.\n",
      "Try using .loc[row_indexer,col_indexer] = value instead\n",
      "\n",
      "See the caveats in the documentation: https://pandas.pydata.org/pandas-docs/stable/user_guide/indexing.html#returning-a-view-versus-a-copy\n",
      "  after removing the cwd from sys.path.\n"
     ]
    },
    {
     "data": {
      "image/png": "[encoded data removed]",
      "text/plain": [
       "<Figure size 1080x504 with 1 Axes>"
      ]
     },
     "metadata": {},
     "output_type": "display_data"
    }
   ],
   "source": [
    "salary_by_feature('jobType')\n",
    "# Salary median varies by jobType, so it is potentially a good predictor\n",
    "\n",
    "# Two issues to investigate:\n",
    "# 1. Many observations are beyond the inter-quartile ranges, so we should check how many to ensure data is believable\n",
    "# 2. Many janitors earn over 100k, so it should be checked for data accuracy"
   ]
  },
  {
   "cell_type": "code",
   "execution_count": 9,
   "metadata": {},
   "outputs": [
    {
     "data": {
      "text/plain": [
       "False    733227\n",
       "True      16769\n",
       "Name: Salary, dtype: int64"
      ]
     },
     "execution_count": 9,
     "metadata": {},
     "output_type": "execute_result"
    }
   ],
   "source": [
    "# Checking how many observations are above 200k (~1.5 times the inter-quartile range) \n",
    "above_200 = features['Salary'] > 200\n",
    "above_200.value_counts()\n",
    "# Over 16k out of 750k earn over 200k, which is about 2%, and quite alright"
   ]
  },
  {
   "cell_type": "code",
   "execution_count": 10,
   "metadata": {},
   "outputs": [
    {
     "name": "stdout",
     "output_type": "stream",
     "text": [
      "degree   HIGH_SCHOOL   NONE\n",
      "jobType                    \n",
      "JANITOR        46749  47013 \n",
      "\n",
      "major     NONE\n",
      "jobType       \n",
      "JANITOR  93762\n"
     ]
    },
    {
     "data": {
      "image/png": "[encoded data removed]",
      "text/plain": [
       "<Figure size 1080x720 with 1 Axes>"
      ]
     },
     "metadata": {},
     "output_type": "display_data"
    }
   ],
   "source": [
    "# Checking Janitor data because many janitors are earning well over 100k\n",
    "janitor = features[features['jobType']=='JANITOR']\n",
    "plt.figure(figsize = (15,10))\n",
    "plt.scatter(x='yearsExperience', y='Salary', data=janitor, color='navy')\n",
    "# more experienced janitors earn more so data is consistent\n",
    "\n",
    "janitor_degree_cross = pd.crosstab(janitor['jobType'], janitor['degree'])\n",
    "janitor_major_cross = pd.crosstab(janitor['jobType'], janitor['major'])\n",
    "\n",
    "print(janitor_degree_cross, '\\n')\n",
    "print(janitor_major_cross)\n",
    "# No janitor has a degree or major so no wrong input of data either"
   ]
  },
  {
   "cell_type": "markdown",
   "metadata": {},
   "source": [
    "#### Degree vs Salary"
   ]
  },
  {
   "cell_type": "code",
   "execution_count": 6,
   "metadata": {},
   "outputs": [
    {
     "name": "stderr",
     "output_type": "stream",
     "text": [
      "C:\\Users\\tniaz\\Anaconda3\\lib\\site-packages\\ipykernel_launcher.py:4: SettingWithCopyWarning: \n",
      "A value is trying to be set on a copy of a slice from a DataFrame.\n",
      "Try using .loc[row_indexer,col_indexer] = value instead\n",
      "\n",
      "See the caveats in the documentation: https://pandas.pydata.org/pandas-docs/stable/user_guide/indexing.html#returning-a-view-versus-a-copy\n",
      "  after removing the cwd from sys.path.\n"
     ]
    },
    {
     "data": {
      "image/png": "[encoded data removed]",
      "text/plain": [
       "<Figure size 1080x504 with 1 Axes>"
      ]
     },
     "metadata": {},
     "output_type": "display_data"
    }
   ],
   "source": [
    "salary_by_feature('degree')\n",
    "# Higher education yields higher pay which makes sense"
   ]
  },
  {
   "cell_type": "markdown",
   "metadata": {},
   "source": [
    "#### Major vs Salary"
   ]
  },
  {
   "cell_type": "code",
   "execution_count": 12,
   "metadata": {},
   "outputs": [
    {
     "name": "stderr",
     "output_type": "stream",
     "text": [
      "C:\\Users\\tniaz\\Anaconda3\\lib\\site-packages\\ipykernel_launcher.py:4: SettingWithCopyWarning: \n",
      "A value is trying to be set on a copy of a slice from a DataFrame.\n",
      "Try using .loc[row_indexer,col_indexer] = value instead\n",
      "\n",
      "See the caveats in the documentation: https://pandas.pydata.org/pandas-docs/stable/user_guide/indexing.html#returning-a-view-versus-a-copy\n",
      "  after removing the cwd from sys.path.\n"
     ]
    },
    {
     "data": {
      "image/png": "[encoded data removed]",
      "text/plain": [
       "<Figure size 1080x504 with 1 Axes>"
      ]
     },
     "metadata": {},
     "output_type": "display_data"
    }
   ],
   "source": [
    "salary_by_feature('major')\n",
    "# not a whole lot of variation in salary across majors given most are STEM"
   ]
  },
  {
   "cell_type": "markdown",
   "metadata": {},
   "source": [
    "#### Industry vs Salary"
   ]
  },
  {
   "cell_type": "code",
   "execution_count": 13,
   "metadata": {},
   "outputs": [
    {
     "name": "stderr",
     "output_type": "stream",
     "text": [
      "C:\\Users\\tniaz\\Anaconda3\\lib\\site-packages\\ipykernel_launcher.py:4: SettingWithCopyWarning: \n",
      "A value is trying to be set on a copy of a slice from a DataFrame.\n",
      "Try using .loc[row_indexer,col_indexer] = value instead\n",
      "\n",
      "See the caveats in the documentation: https://pandas.pydata.org/pandas-docs/stable/user_guide/indexing.html#returning-a-view-versus-a-copy\n",
      "  after removing the cwd from sys.path.\n"
     ]
    },
    {
     "data": {
      "image/png": "[encoded data removed]",
      "text/plain": [
       "<Figure size 1080x504 with 1 Axes>"
      ]
     },
     "metadata": {},
     "output_type": "display_data"
    }
   ],
   "source": [
    "salary_by_feature('industry')\n",
    "# palpable variation across industry as well where oil and finance stand out"
   ]
  },
  {
   "cell_type": "markdown",
   "metadata": {},
   "source": [
    "### 4.3 -- Evaluate numeric features against Salary"
   ]
  },
  {
   "cell_type": "code",
   "execution_count": 14,
   "metadata": {},
   "outputs": [
    {
     "data": {
      "text/html": [
       "<div>\n",
       "<style scoped>\n",
       "    .dataframe tbody tr th:only-of-type {\n",
       "        vertical-align: middle;\n",
       "    }\n",
       "\n",
       "    .dataframe tbody tr th {\n",
       "        vertical-align: top;\n",
       "    }\n",
       "\n",
       "    .dataframe thead th {\n",
       "        text-align: right;\n",
       "    }\n",
       "</style>\n",
       "<table border=\"1\" class=\"dataframe\">\n",
       "  <thead>\n",
       "    <tr style=\"text-align: right;\">\n",
       "      <th></th>\n",
       "      <th>yearsExperience</th>\n",
       "      <th>milesFromMetropolis</th>\n",
       "      <th>Salary</th>\n",
       "    </tr>\n",
       "  </thead>\n",
       "  <tbody>\n",
       "    <tr>\n",
       "      <th>yearsExperience</th>\n",
       "      <td>1.000000</td>\n",
       "      <td>-0.000103</td>\n",
       "      <td>0.374648</td>\n",
       "    </tr>\n",
       "    <tr>\n",
       "      <th>milesFromMetropolis</th>\n",
       "      <td>-0.000103</td>\n",
       "      <td>1.000000</td>\n",
       "      <td>-0.298686</td>\n",
       "    </tr>\n",
       "    <tr>\n",
       "      <th>Salary</th>\n",
       "      <td>0.374648</td>\n",
       "      <td>-0.298686</td>\n",
       "      <td>1.000000</td>\n",
       "    </tr>\n",
       "  </tbody>\n",
       "</table>\n",
       "</div>"
      ],
      "text/plain": [
       "                     yearsExperience  milesFromMetropolis    Salary\n",
       "yearsExperience             1.000000            -0.000103  0.374648\n",
       "milesFromMetropolis        -0.000103             1.000000 -0.298686\n",
       "Salary                      0.374648            -0.298686  1.000000"
      ]
     },
     "execution_count": 14,
     "metadata": {},
     "output_type": "execute_result"
    },
    {
     "data": {
      "image/png": "[encoded data removed]",
      "text/plain": [
       "<Figure size 540x540 with 12 Axes>"
      ]
     },
     "metadata": {},
     "output_type": "display_data"
    }
   ],
   "source": [
    "# Visual will take a few moments\n",
    "sns.pairplot(features, vars=['Salary', 'yearsExperience', 'milesFromMetropolis'])\n",
    "\n",
    "# Since there's no curvature in the plots, measuring linear association with correlation is appropriate\n",
    "features.corr()\n",
    "# Salary is higher with more experience\n",
    "# Salary is lower as distance from metropolis increases\n",
    "# Experience and distance have almost no correlation"
   ]
  },
  {
   "cell_type": "markdown",
   "metadata": {},
   "source": [
    "### 4.4 -- Evaluate features amongst themselves --\n",
    "\n",
    "##### Almost all categories are evenly distributed in their bisections, no apparent concerns"
   ]
  },
  {
   "cell_type": "code",
   "execution_count": 23,
   "metadata": {},
   "outputs": [
    {
     "data": {
      "text/html": [
       "<div>\n",
       "<style scoped>\n",
       "    .dataframe tbody tr th:only-of-type {\n",
       "        vertical-align: middle;\n",
       "    }\n",
       "\n",
       "    .dataframe tbody tr th {\n",
       "        vertical-align: top;\n",
       "    }\n",
       "\n",
       "    .dataframe thead th {\n",
       "        text-align: right;\n",
       "    }\n",
       "</style>\n",
       "<table border=\"1\" class=\"dataframe\">\n",
       "  <thead>\n",
       "    <tr style=\"text-align: right;\">\n",
       "      <th>degree</th>\n",
       "      <th>BACHELORS</th>\n",
       "      <th>DOCTORAL</th>\n",
       "      <th>HIGH_SCHOOL</th>\n",
       "      <th>MASTERS</th>\n",
       "      <th>NONE</th>\n",
       "    </tr>\n",
       "    <tr>\n",
       "      <th>jobType</th>\n",
       "      <th></th>\n",
       "      <th></th>\n",
       "      <th></th>\n",
       "      <th></th>\n",
       "      <th></th>\n",
       "    </tr>\n",
       "  </thead>\n",
       "  <tbody>\n",
       "    <tr>\n",
       "      <th>CEO</th>\n",
       "      <td>18756</td>\n",
       "      <td>18897</td>\n",
       "      <td>18576</td>\n",
       "      <td>18749</td>\n",
       "      <td>18701</td>\n",
       "    </tr>\n",
       "    <tr>\n",
       "      <th>CFO</th>\n",
       "      <td>18693</td>\n",
       "      <td>18533</td>\n",
       "      <td>18705</td>\n",
       "      <td>18772</td>\n",
       "      <td>18547</td>\n",
       "    </tr>\n",
       "    <tr>\n",
       "      <th>CTO</th>\n",
       "      <td>18771</td>\n",
       "      <td>18627</td>\n",
       "      <td>18686</td>\n",
       "      <td>19110</td>\n",
       "      <td>18685</td>\n",
       "    </tr>\n",
       "    <tr>\n",
       "      <th>JANITOR</th>\n",
       "      <td>0</td>\n",
       "      <td>0</td>\n",
       "      <td>46749</td>\n",
       "      <td>0</td>\n",
       "      <td>47013</td>\n",
       "    </tr>\n",
       "    <tr>\n",
       "      <th>JUNIOR</th>\n",
       "      <td>18751</td>\n",
       "      <td>18777</td>\n",
       "      <td>18904</td>\n",
       "      <td>18652</td>\n",
       "      <td>18572</td>\n",
       "    </tr>\n",
       "    <tr>\n",
       "      <th>MANAGER</th>\n",
       "      <td>18765</td>\n",
       "      <td>18681</td>\n",
       "      <td>18631</td>\n",
       "      <td>18753</td>\n",
       "      <td>18781</td>\n",
       "    </tr>\n",
       "    <tr>\n",
       "      <th>SENIOR</th>\n",
       "      <td>19023</td>\n",
       "      <td>18954</td>\n",
       "      <td>18545</td>\n",
       "      <td>19060</td>\n",
       "      <td>18787</td>\n",
       "    </tr>\n",
       "    <tr>\n",
       "      <th>VICE_PRESIDENT</th>\n",
       "      <td>18819</td>\n",
       "      <td>18963</td>\n",
       "      <td>18893</td>\n",
       "      <td>18660</td>\n",
       "      <td>18455</td>\n",
       "    </tr>\n",
       "  </tbody>\n",
       "</table>\n",
       "</div>"
      ],
      "text/plain": [
       "degree          BACHELORS  DOCTORAL  HIGH_SCHOOL  MASTERS   NONE\n",
       "jobType                                                         \n",
       "CEO                 18756     18897        18576    18749  18701\n",
       "CFO                 18693     18533        18705    18772  18547\n",
       "CTO                 18771     18627        18686    19110  18685\n",
       "JANITOR                 0         0        46749        0  47013\n",
       "JUNIOR              18751     18777        18904    18652  18572\n",
       "MANAGER             18765     18681        18631    18753  18781\n",
       "SENIOR              19023     18954        18545    19060  18787\n",
       "VICE_PRESIDENT      18819     18963        18893    18660  18455"
      ]
     },
     "execution_count": 23,
     "metadata": {},
     "output_type": "execute_result"
    }
   ],
   "source": [
    "job_degree_cross = pd.crosstab(features.jobType, features.degree)\n",
    "job_degree_cross"
   ]
  },
  {
   "cell_type": "code",
   "execution_count": 15,
   "metadata": {},
   "outputs": [
    {
     "data": {
      "text/html": [
       "<div>\n",
       "<style scoped>\n",
       "    .dataframe tbody tr th:only-of-type {\n",
       "        vertical-align: middle;\n",
       "    }\n",
       "\n",
       "    .dataframe tbody tr th {\n",
       "        vertical-align: top;\n",
       "    }\n",
       "\n",
       "    .dataframe thead th {\n",
       "        text-align: right;\n",
       "    }\n",
       "</style>\n",
       "<table border=\"1\" class=\"dataframe\">\n",
       "  <thead>\n",
       "    <tr style=\"text-align: right;\">\n",
       "      <th>major</th>\n",
       "      <th>BIOLOGY</th>\n",
       "      <th>BUSINESS</th>\n",
       "      <th>CHEMISTRY</th>\n",
       "      <th>COMPSCI</th>\n",
       "      <th>ENGINEERING</th>\n",
       "      <th>LITERATURE</th>\n",
       "      <th>MATH</th>\n",
       "      <th>NONE</th>\n",
       "      <th>PHYSICS</th>\n",
       "    </tr>\n",
       "    <tr>\n",
       "      <th>jobType</th>\n",
       "      <th></th>\n",
       "      <th></th>\n",
       "      <th></th>\n",
       "      <th></th>\n",
       "      <th></th>\n",
       "      <th></th>\n",
       "      <th></th>\n",
       "      <th></th>\n",
       "      <th></th>\n",
       "    </tr>\n",
       "  </thead>\n",
       "  <tbody>\n",
       "    <tr>\n",
       "      <th>CEO</th>\n",
       "      <td>6307</td>\n",
       "      <td>6235</td>\n",
       "      <td>6311</td>\n",
       "      <td>6384</td>\n",
       "      <td>6239</td>\n",
       "      <td>6289</td>\n",
       "      <td>6124</td>\n",
       "      <td>43528</td>\n",
       "      <td>6262</td>\n",
       "    </tr>\n",
       "    <tr>\n",
       "      <th>CFO</th>\n",
       "      <td>6338</td>\n",
       "      <td>6220</td>\n",
       "      <td>6297</td>\n",
       "      <td>6238</td>\n",
       "      <td>6259</td>\n",
       "      <td>6022</td>\n",
       "      <td>6246</td>\n",
       "      <td>43436</td>\n",
       "      <td>6194</td>\n",
       "    </tr>\n",
       "    <tr>\n",
       "      <th>CTO</th>\n",
       "      <td>6263</td>\n",
       "      <td>6295</td>\n",
       "      <td>6304</td>\n",
       "      <td>6317</td>\n",
       "      <td>6134</td>\n",
       "      <td>6387</td>\n",
       "      <td>6205</td>\n",
       "      <td>43687</td>\n",
       "      <td>6287</td>\n",
       "    </tr>\n",
       "    <tr>\n",
       "      <th>JANITOR</th>\n",
       "      <td>0</td>\n",
       "      <td>0</td>\n",
       "      <td>0</td>\n",
       "      <td>0</td>\n",
       "      <td>0</td>\n",
       "      <td>0</td>\n",
       "      <td>0</td>\n",
       "      <td>93762</td>\n",
       "      <td>0</td>\n",
       "    </tr>\n",
       "    <tr>\n",
       "      <th>JUNIOR</th>\n",
       "      <td>6100</td>\n",
       "      <td>6286</td>\n",
       "      <td>6295</td>\n",
       "      <td>6217</td>\n",
       "      <td>6339</td>\n",
       "      <td>6313</td>\n",
       "      <td>6226</td>\n",
       "      <td>43707</td>\n",
       "      <td>6173</td>\n",
       "    </tr>\n",
       "    <tr>\n",
       "      <th>MANAGER</th>\n",
       "      <td>6229</td>\n",
       "      <td>6176</td>\n",
       "      <td>6204</td>\n",
       "      <td>6164</td>\n",
       "      <td>6323</td>\n",
       "      <td>6415</td>\n",
       "      <td>6183</td>\n",
       "      <td>43585</td>\n",
       "      <td>6332</td>\n",
       "    </tr>\n",
       "    <tr>\n",
       "      <th>SENIOR</th>\n",
       "      <td>6360</td>\n",
       "      <td>6331</td>\n",
       "      <td>6357</td>\n",
       "      <td>6339</td>\n",
       "      <td>6437</td>\n",
       "      <td>6397</td>\n",
       "      <td>6191</td>\n",
       "      <td>43603</td>\n",
       "      <td>6354</td>\n",
       "    </tr>\n",
       "    <tr>\n",
       "      <th>VICE_PRESIDENT</th>\n",
       "      <td>6268</td>\n",
       "      <td>6321</td>\n",
       "      <td>6320</td>\n",
       "      <td>6137</td>\n",
       "      <td>6355</td>\n",
       "      <td>6239</td>\n",
       "      <td>6283</td>\n",
       "      <td>43634</td>\n",
       "      <td>6233</td>\n",
       "    </tr>\n",
       "  </tbody>\n",
       "</table>\n",
       "</div>"
      ],
      "text/plain": [
       "major           BIOLOGY  BUSINESS  CHEMISTRY  COMPSCI  ENGINEERING  \\\n",
       "jobType                                                              \n",
       "CEO                6307      6235       6311     6384         6239   \n",
       "CFO                6338      6220       6297     6238         6259   \n",
       "CTO                6263      6295       6304     6317         6134   \n",
       "JANITOR               0         0          0        0            0   \n",
       "JUNIOR             6100      6286       6295     6217         6339   \n",
       "MANAGER            6229      6176       6204     6164         6323   \n",
       "SENIOR             6360      6331       6357     6339         6437   \n",
       "VICE_PRESIDENT     6268      6321       6320     6137         6355   \n",
       "\n",
       "major           LITERATURE  MATH   NONE  PHYSICS  \n",
       "jobType                                           \n",
       "CEO                   6289  6124  43528     6262  \n",
       "CFO                   6022  6246  43436     6194  \n",
       "CTO                   6387  6205  43687     6287  \n",
       "JANITOR                  0     0  93762        0  \n",
       "JUNIOR                6313  6226  43707     6173  \n",
       "MANAGER               6415  6183  43585     6332  \n",
       "SENIOR                6397  6191  43603     6354  \n",
       "VICE_PRESIDENT        6239  6283  43634     6233  "
      ]
     },
     "execution_count": 15,
     "metadata": {},
     "output_type": "execute_result"
    }
   ],
   "source": [
    "job_major_cross = pd.crosstab(features.jobType, features.major)\n",
    "job_major_cross"
   ]
  },
  {
   "cell_type": "code",
   "execution_count": 316,
   "metadata": {},
   "outputs": [
    {
     "data": {
      "text/html": [
       "<div>\n",
       "<style scoped>\n",
       "    .dataframe tbody tr th:only-of-type {\n",
       "        vertical-align: middle;\n",
       "    }\n",
       "\n",
       "    .dataframe tbody tr th {\n",
       "        vertical-align: top;\n",
       "    }\n",
       "\n",
       "    .dataframe thead th {\n",
       "        text-align: right;\n",
       "    }\n",
       "</style>\n",
       "<table border=\"1\" class=\"dataframe\">\n",
       "  <thead>\n",
       "    <tr style=\"text-align: right;\">\n",
       "      <th>industry</th>\n",
       "      <th>AUTO</th>\n",
       "      <th>EDUCATION</th>\n",
       "      <th>FINANCE</th>\n",
       "      <th>HEALTH</th>\n",
       "      <th>OIL</th>\n",
       "      <th>SERVICE</th>\n",
       "      <th>WEB</th>\n",
       "    </tr>\n",
       "    <tr>\n",
       "      <th>jobType</th>\n",
       "      <th></th>\n",
       "      <th></th>\n",
       "      <th></th>\n",
       "      <th></th>\n",
       "      <th></th>\n",
       "      <th></th>\n",
       "      <th></th>\n",
       "    </tr>\n",
       "  </thead>\n",
       "  <tbody>\n",
       "    <tr>\n",
       "      <th>CEO</th>\n",
       "      <td>13400</td>\n",
       "      <td>13369</td>\n",
       "      <td>13405</td>\n",
       "      <td>13222</td>\n",
       "      <td>13491</td>\n",
       "      <td>13306</td>\n",
       "      <td>13486</td>\n",
       "    </tr>\n",
       "    <tr>\n",
       "      <th>CFO</th>\n",
       "      <td>13300</td>\n",
       "      <td>13230</td>\n",
       "      <td>13364</td>\n",
       "      <td>13430</td>\n",
       "      <td>13216</td>\n",
       "      <td>13275</td>\n",
       "      <td>13435</td>\n",
       "    </tr>\n",
       "    <tr>\n",
       "      <th>CTO</th>\n",
       "      <td>13274</td>\n",
       "      <td>13459</td>\n",
       "      <td>13365</td>\n",
       "      <td>13279</td>\n",
       "      <td>13641</td>\n",
       "      <td>13401</td>\n",
       "      <td>13460</td>\n",
       "    </tr>\n",
       "    <tr>\n",
       "      <th>JANITOR</th>\n",
       "      <td>13625</td>\n",
       "      <td>13362</td>\n",
       "      <td>13315</td>\n",
       "      <td>13341</td>\n",
       "      <td>13256</td>\n",
       "      <td>13364</td>\n",
       "      <td>13499</td>\n",
       "    </tr>\n",
       "    <tr>\n",
       "      <th>JUNIOR</th>\n",
       "      <td>13433</td>\n",
       "      <td>13356</td>\n",
       "      <td>13344</td>\n",
       "      <td>13502</td>\n",
       "      <td>13130</td>\n",
       "      <td>13427</td>\n",
       "      <td>13464</td>\n",
       "    </tr>\n",
       "    <tr>\n",
       "      <th>MANAGER</th>\n",
       "      <td>13514</td>\n",
       "      <td>13316</td>\n",
       "      <td>13395</td>\n",
       "      <td>13308</td>\n",
       "      <td>13390</td>\n",
       "      <td>13370</td>\n",
       "      <td>13318</td>\n",
       "    </tr>\n",
       "    <tr>\n",
       "      <th>SENIOR</th>\n",
       "      <td>13309</td>\n",
       "      <td>13481</td>\n",
       "      <td>13476</td>\n",
       "      <td>13459</td>\n",
       "      <td>13610</td>\n",
       "      <td>13638</td>\n",
       "      <td>13396</td>\n",
       "    </tr>\n",
       "    <tr>\n",
       "      <th>VICE_PRESIDENT</th>\n",
       "      <td>13338</td>\n",
       "      <td>13269</td>\n",
       "      <td>13404</td>\n",
       "      <td>13610</td>\n",
       "      <td>13403</td>\n",
       "      <td>13302</td>\n",
       "      <td>13464</td>\n",
       "    </tr>\n",
       "  </tbody>\n",
       "</table>\n",
       "</div>"
      ],
      "text/plain": [
       "industry         AUTO  EDUCATION  FINANCE  HEALTH    OIL  SERVICE    WEB\n",
       "jobType                                                                 \n",
       "CEO             13400      13369    13405   13222  13491    13306  13486\n",
       "CFO             13300      13230    13364   13430  13216    13275  13435\n",
       "CTO             13274      13459    13365   13279  13641    13401  13460\n",
       "JANITOR         13625      13362    13315   13341  13256    13364  13499\n",
       "JUNIOR          13433      13356    13344   13502  13130    13427  13464\n",
       "MANAGER         13514      13316    13395   13308  13390    13370  13318\n",
       "SENIOR          13309      13481    13476   13459  13610    13638  13396\n",
       "VICE_PRESIDENT  13338      13269    13404   13610  13403    13302  13464"
      ]
     },
     "execution_count": 316,
     "metadata": {},
     "output_type": "execute_result"
    }
   ],
   "source": [
    "job_ind_cross = pd.crosstab(features.jobType, features.industry)\n",
    "job_ind_cross"
   ]
  },
  {
   "cell_type": "code",
   "execution_count": 317,
   "metadata": {},
   "outputs": [
    {
     "data": {
      "text/html": [
       "<div>\n",
       "<style scoped>\n",
       "    .dataframe tbody tr th:only-of-type {\n",
       "        vertical-align: middle;\n",
       "    }\n",
       "\n",
       "    .dataframe tbody tr th {\n",
       "        vertical-align: top;\n",
       "    }\n",
       "\n",
       "    .dataframe thead th {\n",
       "        text-align: right;\n",
       "    }\n",
       "</style>\n",
       "<table border=\"1\" class=\"dataframe\">\n",
       "  <thead>\n",
       "    <tr style=\"text-align: right;\">\n",
       "      <th>major</th>\n",
       "      <th>BIOLOGY</th>\n",
       "      <th>BUSINESS</th>\n",
       "      <th>CHEMISTRY</th>\n",
       "      <th>COMPSCI</th>\n",
       "      <th>ENGINEERING</th>\n",
       "      <th>LITERATURE</th>\n",
       "      <th>MATH</th>\n",
       "      <th>NONE</th>\n",
       "      <th>PHYSICS</th>\n",
       "    </tr>\n",
       "    <tr>\n",
       "      <th>degree</th>\n",
       "      <th></th>\n",
       "      <th></th>\n",
       "      <th></th>\n",
       "      <th></th>\n",
       "      <th></th>\n",
       "      <th></th>\n",
       "      <th></th>\n",
       "      <th></th>\n",
       "      <th></th>\n",
       "    </tr>\n",
       "  </thead>\n",
       "  <tbody>\n",
       "    <tr>\n",
       "      <th>BACHELORS</th>\n",
       "      <td>14709</td>\n",
       "      <td>14587</td>\n",
       "      <td>14769</td>\n",
       "      <td>14706</td>\n",
       "      <td>14836</td>\n",
       "      <td>14566</td>\n",
       "      <td>14379</td>\n",
       "      <td>14579</td>\n",
       "      <td>14447</td>\n",
       "    </tr>\n",
       "    <tr>\n",
       "      <th>DOCTORAL</th>\n",
       "      <td>14622</td>\n",
       "      <td>14606</td>\n",
       "      <td>14605</td>\n",
       "      <td>14419</td>\n",
       "      <td>14550</td>\n",
       "      <td>14763</td>\n",
       "      <td>14573</td>\n",
       "      <td>14748</td>\n",
       "      <td>14546</td>\n",
       "    </tr>\n",
       "    <tr>\n",
       "      <th>HIGH_SCHOOL</th>\n",
       "      <td>0</td>\n",
       "      <td>0</td>\n",
       "      <td>0</td>\n",
       "      <td>0</td>\n",
       "      <td>0</td>\n",
       "      <td>0</td>\n",
       "      <td>0</td>\n",
       "      <td>177689</td>\n",
       "      <td>0</td>\n",
       "    </tr>\n",
       "    <tr>\n",
       "      <th>MASTERS</th>\n",
       "      <td>14534</td>\n",
       "      <td>14671</td>\n",
       "      <td>14714</td>\n",
       "      <td>14671</td>\n",
       "      <td>14700</td>\n",
       "      <td>14733</td>\n",
       "      <td>14506</td>\n",
       "      <td>14385</td>\n",
       "      <td>14842</td>\n",
       "    </tr>\n",
       "    <tr>\n",
       "      <th>NONE</th>\n",
       "      <td>0</td>\n",
       "      <td>0</td>\n",
       "      <td>0</td>\n",
       "      <td>0</td>\n",
       "      <td>0</td>\n",
       "      <td>0</td>\n",
       "      <td>0</td>\n",
       "      <td>177541</td>\n",
       "      <td>0</td>\n",
       "    </tr>\n",
       "  </tbody>\n",
       "</table>\n",
       "</div>"
      ],
      "text/plain": [
       "major        BIOLOGY  BUSINESS  CHEMISTRY  COMPSCI  ENGINEERING  LITERATURE  \\\n",
       "degree                                                                        \n",
       "BACHELORS      14709     14587      14769    14706        14836       14566   \n",
       "DOCTORAL       14622     14606      14605    14419        14550       14763   \n",
       "HIGH_SCHOOL        0         0          0        0            0           0   \n",
       "MASTERS        14534     14671      14714    14671        14700       14733   \n",
       "NONE               0         0          0        0            0           0   \n",
       "\n",
       "major         MATH    NONE  PHYSICS  \n",
       "degree                               \n",
       "BACHELORS    14379   14579    14447  \n",
       "DOCTORAL     14573   14748    14546  \n",
       "HIGH_SCHOOL      0  177689        0  \n",
       "MASTERS      14506   14385    14842  \n",
       "NONE             0  177541        0  "
      ]
     },
     "execution_count": 317,
     "metadata": {},
     "output_type": "execute_result"
    }
   ],
   "source": [
    "degree_major_cross = pd.crosstab(features.degree, features.major)\n",
    "degree_major_cross"
   ]
  },
  {
   "cell_type": "code",
   "execution_count": 318,
   "metadata": {},
   "outputs": [
    {
     "data": {
      "text/html": [
       "<div>\n",
       "<style scoped>\n",
       "    .dataframe tbody tr th:only-of-type {\n",
       "        vertical-align: middle;\n",
       "    }\n",
       "\n",
       "    .dataframe tbody tr th {\n",
       "        vertical-align: top;\n",
       "    }\n",
       "\n",
       "    .dataframe thead th {\n",
       "        text-align: right;\n",
       "    }\n",
       "</style>\n",
       "<table border=\"1\" class=\"dataframe\">\n",
       "  <thead>\n",
       "    <tr style=\"text-align: right;\">\n",
       "      <th>industry</th>\n",
       "      <th>AUTO</th>\n",
       "      <th>EDUCATION</th>\n",
       "      <th>FINANCE</th>\n",
       "      <th>HEALTH</th>\n",
       "      <th>OIL</th>\n",
       "      <th>SERVICE</th>\n",
       "      <th>WEB</th>\n",
       "    </tr>\n",
       "    <tr>\n",
       "      <th>degree</th>\n",
       "      <th></th>\n",
       "      <th></th>\n",
       "      <th></th>\n",
       "      <th></th>\n",
       "      <th></th>\n",
       "      <th></th>\n",
       "      <th></th>\n",
       "    </tr>\n",
       "  </thead>\n",
       "  <tbody>\n",
       "    <tr>\n",
       "      <th>BACHELORS</th>\n",
       "      <td>18887</td>\n",
       "      <td>18788</td>\n",
       "      <td>18826</td>\n",
       "      <td>18677</td>\n",
       "      <td>18743</td>\n",
       "      <td>18791</td>\n",
       "      <td>18866</td>\n",
       "    </tr>\n",
       "    <tr>\n",
       "      <th>DOCTORAL</th>\n",
       "      <td>18875</td>\n",
       "      <td>18713</td>\n",
       "      <td>18912</td>\n",
       "      <td>18781</td>\n",
       "      <td>18822</td>\n",
       "      <td>18536</td>\n",
       "      <td>18793</td>\n",
       "    </tr>\n",
       "    <tr>\n",
       "      <th>HIGH_SCHOOL</th>\n",
       "      <td>25245</td>\n",
       "      <td>25400</td>\n",
       "      <td>25252</td>\n",
       "      <td>25492</td>\n",
       "      <td>25472</td>\n",
       "      <td>25185</td>\n",
       "      <td>25643</td>\n",
       "    </tr>\n",
       "    <tr>\n",
       "      <th>MASTERS</th>\n",
       "      <td>18709</td>\n",
       "      <td>18669</td>\n",
       "      <td>18813</td>\n",
       "      <td>18854</td>\n",
       "      <td>18793</td>\n",
       "      <td>18914</td>\n",
       "      <td>19004</td>\n",
       "    </tr>\n",
       "    <tr>\n",
       "      <th>NONE</th>\n",
       "      <td>25477</td>\n",
       "      <td>25272</td>\n",
       "      <td>25265</td>\n",
       "      <td>25347</td>\n",
       "      <td>25307</td>\n",
       "      <td>25657</td>\n",
       "      <td>25216</td>\n",
       "    </tr>\n",
       "  </tbody>\n",
       "</table>\n",
       "</div>"
      ],
      "text/plain": [
       "industry      AUTO  EDUCATION  FINANCE  HEALTH    OIL  SERVICE    WEB\n",
       "degree                                                               \n",
       "BACHELORS    18887      18788    18826   18677  18743    18791  18866\n",
       "DOCTORAL     18875      18713    18912   18781  18822    18536  18793\n",
       "HIGH_SCHOOL  25245      25400    25252   25492  25472    25185  25643\n",
       "MASTERS      18709      18669    18813   18854  18793    18914  19004\n",
       "NONE         25477      25272    25265   25347  25307    25657  25216"
      ]
     },
     "execution_count": 318,
     "metadata": {},
     "output_type": "execute_result"
    }
   ],
   "source": [
    "deg_ind_cross = pd.crosstab(features.degree, features.industry)\n",
    "deg_ind_cross"
   ]
  },
  {
   "cell_type": "code",
   "execution_count": 45,
   "metadata": {},
   "outputs": [
    {
     "data": {
      "text/html": [
       "<div>\n",
       "<style scoped>\n",
       "    .dataframe tbody tr th:only-of-type {\n",
       "        vertical-align: middle;\n",
       "    }\n",
       "\n",
       "    .dataframe tbody tr th {\n",
       "        vertical-align: top;\n",
       "    }\n",
       "\n",
       "    .dataframe thead th {\n",
       "        text-align: right;\n",
       "    }\n",
       "</style>\n",
       "<table border=\"1\" class=\"dataframe\">\n",
       "  <thead>\n",
       "    <tr style=\"text-align: right;\">\n",
       "      <th>major</th>\n",
       "      <th>BIOLOGY</th>\n",
       "      <th>BUSINESS</th>\n",
       "      <th>CHEMISTRY</th>\n",
       "      <th>COMPSCI</th>\n",
       "      <th>ENGINEERING</th>\n",
       "      <th>LITERATURE</th>\n",
       "      <th>MATH</th>\n",
       "      <th>NONE</th>\n",
       "      <th>PHYSICS</th>\n",
       "    </tr>\n",
       "    <tr>\n",
       "      <th>industry</th>\n",
       "      <th></th>\n",
       "      <th></th>\n",
       "      <th></th>\n",
       "      <th></th>\n",
       "      <th></th>\n",
       "      <th></th>\n",
       "      <th></th>\n",
       "      <th></th>\n",
       "      <th></th>\n",
       "    </tr>\n",
       "  </thead>\n",
       "  <tbody>\n",
       "    <tr>\n",
       "      <th>AUTO</th>\n",
       "      <td>6192</td>\n",
       "      <td>6224</td>\n",
       "      <td>6423</td>\n",
       "      <td>6213</td>\n",
       "      <td>6332</td>\n",
       "      <td>6370</td>\n",
       "      <td>6219</td>\n",
       "      <td>56948</td>\n",
       "      <td>6272</td>\n",
       "    </tr>\n",
       "    <tr>\n",
       "      <th>EDUCATION</th>\n",
       "      <td>6274</td>\n",
       "      <td>6372</td>\n",
       "      <td>6223</td>\n",
       "      <td>6256</td>\n",
       "      <td>6235</td>\n",
       "      <td>6225</td>\n",
       "      <td>6153</td>\n",
       "      <td>56909</td>\n",
       "      <td>6195</td>\n",
       "    </tr>\n",
       "    <tr>\n",
       "      <th>FINANCE</th>\n",
       "      <td>6183</td>\n",
       "      <td>6377</td>\n",
       "      <td>6324</td>\n",
       "      <td>6271</td>\n",
       "      <td>6341</td>\n",
       "      <td>6365</td>\n",
       "      <td>6280</td>\n",
       "      <td>56735</td>\n",
       "      <td>6192</td>\n",
       "    </tr>\n",
       "    <tr>\n",
       "      <th>HEALTH</th>\n",
       "      <td>6348</td>\n",
       "      <td>6222</td>\n",
       "      <td>6281</td>\n",
       "      <td>6271</td>\n",
       "      <td>6206</td>\n",
       "      <td>6230</td>\n",
       "      <td>6196</td>\n",
       "      <td>57069</td>\n",
       "      <td>6328</td>\n",
       "    </tr>\n",
       "    <tr>\n",
       "      <th>OIL</th>\n",
       "      <td>6256</td>\n",
       "      <td>6188</td>\n",
       "      <td>6294</td>\n",
       "      <td>6216</td>\n",
       "      <td>6255</td>\n",
       "      <td>6316</td>\n",
       "      <td>6264</td>\n",
       "      <td>57112</td>\n",
       "      <td>6236</td>\n",
       "    </tr>\n",
       "    <tr>\n",
       "      <th>SERVICE</th>\n",
       "      <td>6350</td>\n",
       "      <td>6339</td>\n",
       "      <td>6238</td>\n",
       "      <td>6210</td>\n",
       "      <td>6406</td>\n",
       "      <td>6143</td>\n",
       "      <td>6054</td>\n",
       "      <td>57052</td>\n",
       "      <td>6291</td>\n",
       "    </tr>\n",
       "    <tr>\n",
       "      <th>WEB</th>\n",
       "      <td>6262</td>\n",
       "      <td>6142</td>\n",
       "      <td>6305</td>\n",
       "      <td>6359</td>\n",
       "      <td>6311</td>\n",
       "      <td>6413</td>\n",
       "      <td>6292</td>\n",
       "      <td>57117</td>\n",
       "      <td>6321</td>\n",
       "    </tr>\n",
       "  </tbody>\n",
       "</table>\n",
       "</div>"
      ],
      "text/plain": [
       "major      BIOLOGY  BUSINESS  CHEMISTRY  COMPSCI  ENGINEERING  LITERATURE  \\\n",
       "industry                                                                    \n",
       "AUTO          6192      6224       6423     6213         6332        6370   \n",
       "EDUCATION     6274      6372       6223     6256         6235        6225   \n",
       "FINANCE       6183      6377       6324     6271         6341        6365   \n",
       "HEALTH        6348      6222       6281     6271         6206        6230   \n",
       "OIL           6256      6188       6294     6216         6255        6316   \n",
       "SERVICE       6350      6339       6238     6210         6406        6143   \n",
       "WEB           6262      6142       6305     6359         6311        6413   \n",
       "\n",
       "major      MATH   NONE  PHYSICS  \n",
       "industry                         \n",
       "AUTO       6219  56948     6272  \n",
       "EDUCATION  6153  56909     6195  \n",
       "FINANCE    6280  56735     6192  \n",
       "HEALTH     6196  57069     6328  \n",
       "OIL        6264  57112     6236  \n",
       "SERVICE    6054  57052     6291  \n",
       "WEB        6292  57117     6321  "
      ]
     },
     "execution_count": 45,
     "metadata": {},
     "output_type": "execute_result"
    }
   ],
   "source": [
    "major_ind_cross = pd.crosstab(features.industry, features.major)\n",
    "major_ind_cross"
   ]
  },
  {
   "cell_type": "markdown",
   "metadata": {},
   "source": [
    "### ---- 5 Establish a baseline ----"
   ]
  },
  {
   "cell_type": "code",
   "execution_count": null,
   "metadata": {},
   "outputs": [],
   "source": []
  },
  {
   "cell_type": "code",
   "execution_count": 5,
   "metadata": {},
   "outputs": [
    {
     "data": {
      "text/plain": [
       "(749996, 31)"
      ]
     },
     "execution_count": 5,
     "metadata": {},
     "output_type": "execute_result"
    }
   ],
   "source": [
    "# One hot encode categorical features for appropriate linear model input\n",
    "features = pd.get_dummies(features)\n",
    "features.shape"
   ]
  },
  {
   "cell_type": "code",
   "execution_count": 6,
   "metadata": {},
   "outputs": [
    {
     "data": {
      "text/plain": [
       "(249999, 31)"
      ]
     },
     "execution_count": 6,
     "metadata": {},
     "output_type": "execute_result"
    }
   ],
   "source": [
    "# transform testing data\n",
    "test_features = pd.get_dummies(test_features)\n",
    "test_features.shape"
   ]
  },
  {
   "cell_type": "code",
   "execution_count": 7,
   "metadata": {},
   "outputs": [],
   "source": [
    "# Drop the excluded group in each category to form a basis of comparison in regression\n",
    "predictors = features.drop(['jobType_JANITOR', 'degree_NONE', 'major_NONE', 'industry_SERVICE'], axis=1)\n",
    "predictors.shape\n",
    "\n",
    "test_features.drop(['jobType_JANITOR','degree_NONE','major_NONE', 'industry_SERVICE'], axis=1, inplace=True)\n",
    "salary_data = salaries['salary']"
   ]
  },
  {
   "cell_type": "code",
   "execution_count": 10,
   "metadata": {},
   "outputs": [],
   "source": [
    "from sklearn.model_selection import cross_val_score\n",
    "from sklearn.linear_model import LinearRegression\n",
    "from sklearn.metrics import mean_squared_error\n",
    "\n",
    "'''\n",
    "estimator_cv takes any estimator (Linear Regression, Decision Tree Regressor, etc.)\n",
    "and use k-fold cross-validation to score the performance of the estimator across the k folds.\n",
    "It returns the individual and average scores of the k folds.\n",
    "\n",
    "'''\n",
    "\n",
    "def estimator_cv(estimator, cv, data, target, scoring):\n",
    "    scores = cross_val_score(estimator, X=data, y=target, cv=cv, scoring=scoring)\n",
    "    scores = abs(scores) # MSE scoring is negative in cross_val_score\n",
    "    avg_scores = np.mean(scores)\n",
    "    print(\"avg_score:\", avg_scores,'\\n', \"scores:\", scores)"
   ]
  },
  {
   "cell_type": "code",
   "execution_count": 52,
   "metadata": {},
   "outputs": [
    {
     "name": "stdout",
     "output_type": "stream",
     "text": [
      "avg_score: 384.7288188645689 \n",
      " scores: [385.65070307 382.65285187 385.1872413  385.23038853 384.92290956]\n",
      "avg_score: 0.7438018558738291 \n",
      " scores: [0.74380737 0.7446325  0.74382098 0.74302583 0.7437226 ]\n"
     ]
    }
   ],
   "source": [
    "# Creating and evaluating baseline regression model\n",
    "OLS_mse = estimator_cv(LinearRegression(), cv=5, data=predictors, target=salary_data, scoring='neg_mean_squared_error')\n",
    "OLS_mse\n",
    "\n",
    "OLS_r2 = estimator_cv(LinearRegression(), cv=5, data=predictors, target=salary_data, scoring='r2')\n",
    "OLS_r2"
   ]
  },
  {
   "cell_type": "markdown",
   "metadata": {},
   "source": [
    "##### The average MSE of the baseline model is about 385\n",
    "\n",
    "##### The average R2 of the baseline model is about 0.744"
   ]
  },
  {
   "cell_type": "markdown",
   "metadata": {},
   "source": [
    "### Now testing on completely unseen data"
   ]
  },
  {
   "cell_type": "code",
   "execution_count": 19,
   "metadata": {},
   "outputs": [
    {
     "name": "stdout",
     "output_type": "stream",
     "text": [
      "R2: 0.7428312259452836\n",
      "MSE: 383.4377938102359\n"
     ]
    }
   ],
   "source": [
    "# predicting and scoring on test data\n",
    "OLS = LinearRegression().fit(predictors, salary_data) # train model on 750k observations\n",
    "preds_OLS = OLS.predict(test_features) # testing on 250k values\n",
    "print(\"R2:\", OLS.score(test_features, test_salaries))\n",
    "print(\"MSE:\", mean_squared_error(test_salaries, preds_OLS))"
   ]
  },
  {
   "cell_type": "markdown",
   "metadata": {},
   "source": [
    "#### Results on completely unseen data are consistent with those in 5-fold CV, so the model is stable and generalizable"
   ]
  },
  {
   "cell_type": "markdown",
   "metadata": {},
   "source": [
    "### ---- 6 Hypothesize solution ----"
   ]
  },
  {
   "cell_type": "code",
   "execution_count": 25,
   "metadata": {},
   "outputs": [],
   "source": [
    "#brainstorm 3 models that you think may improve results over the baseline model\n",
    "\n",
    "# Linear Regression with interaction terms\n",
    "# XGBoost / Adaboost\n",
    "# Boosted Random Forest\n",
    "# Stacking"
   ]
  },
  {
   "cell_type": "markdown",
   "metadata": {},
   "source": [
    "Brainstorm 3 models that you think may improve results over the baseline model based on your EDA and explain why they're reasonable solutions here.\n",
    "\n",
    "Also write down any new features that you think you should try adding to the model based on your EDA, e.g. interaction variables, summary statistics for each group, etc"
   ]
  },
  {
   "cell_type": "markdown",
   "metadata": {},
   "source": [
    "## Part 3 - DEVELOP"
   ]
  },
  {
   "cell_type": "markdown",
   "metadata": {},
   "source": [
    "You will cycle through creating features, tuning models, and training/validing models (steps 7-9) until you've reached your efficacy goal\n",
    "\n",
    "#### Your metric will be MSE and your goal is:\n",
    " - <360 for entry-level data science roles\n",
    " - <320 for senior data science roles"
   ]
  },
  {
   "cell_type": "markdown",
   "metadata": {},
   "source": [
    "### ---- 7 Engineer features  ----"
   ]
  },
  {
   "cell_type": "code",
   "execution_count": 54,
   "metadata": {},
   "outputs": [
    {
     "data": {
      "text/plain": [
       "Index(['yearsExperience', 'milesFromMetropolis', 'jobType_CEO', 'jobType_CFO',\n",
       "       'jobType_CTO', 'jobType_JUNIOR', 'jobType_MANAGER', 'jobType_SENIOR',\n",
       "       'jobType_VICE_PRESIDENT', 'degree_BACHELORS', 'degree_DOCTORAL',\n",
       "       'degree_HIGH_SCHOOL', 'degree_MASTERS', 'major_BIOLOGY',\n",
       "       'major_BUSINESS', 'major_CHEMISTRY', 'major_COMPSCI',\n",
       "       'major_ENGINEERING', 'major_LITERATURE', 'major_MATH', 'major_PHYSICS',\n",
       "       'industry_AUTO', 'industry_EDUCATION', 'industry_FINANCE',\n",
       "       'industry_HEALTH', 'industry_OIL', 'industry_WEB'],\n",
       "      dtype='object')"
      ]
     },
     "execution_count": 54,
     "metadata": {},
     "output_type": "execute_result"
    }
   ],
   "source": [
    "predictors.columns"
   ]
  },
  {
   "cell_type": "markdown",
   "metadata": {},
   "source": [
    "---------------------------------------------------------------------------------------------------\n",
    "### Interactions justifications:\n",
    "\n",
    "#### JobType * Industry\n",
    "CFO in finance industry should earn more than a CFO in education, which means that the effect of job type on salary depends on industry\n",
    "\n",
    "#### JobType * Degree --- | --- JobType * Major\n",
    "A CTO with literature major ought to earn differently from a CTO with computer science major\n",
    "\n",
    "#### JobType * yearsExperience\n",
    "25 years of experience as a janitor ought to be different from same experience as a senior\n",
    "\n",
    "#### yearsExperience * Degree --- | --- yearsExperience * Major\n",
    "Experience is also substituted for level and relevance of education, so effect of experience on salary also depends on education\n",
    "\n",
    "#### yearsExperience * Industry\n",
    "Experience in one industry might be differently rewarded from another\n",
    "\n",
    "#### Industry * Degree --- | --- Industry * Major\n",
    "Differnet industries ought to reward different education levels and majors differently\n",
    "\n",
    "#### Degree * Major\n",
    "Finance Master's ought to earn more than just Finance Bachelor's\n",
    "\n",
    "#### milesFromMetropolis * JobType\n",
    "Long commute times can affect job performance so similar job types might earn differently due to distance\n",
    "\n",
    "#### milesFromMetropolis * Degree -- | -- milesFromMetropolis * Major\n",
    "Those who can afford living in the metropolis might have better resources to pursue higher education and STEM subjects that pay more\n",
    "\n",
    "#### milesFromMetropolis * Industry\n",
    "Those who live in suburbs might be more likely to choose the Education industry which is closer than working in the downtown in the financial district\n",
    "\n",
    "#### milesFromMetropolis * Experience\n",
    "Similar years of experience might be rewarded differently due to quality of performance impacted by distance\n",
    "\n",
    "#### We have JobType, yearsExperience, milesFromMetropolis, industry, degree, and major all interacting with each other\n",
    "----------------------------------------------------------------------------------------------------"
   ]
  },
  {
   "cell_type": "code",
   "execution_count": 16,
   "metadata": {},
   "outputs": [
    {
     "data": {
      "text/plain": [
       "(749996, 378)"
      ]
     },
     "execution_count": 16,
     "metadata": {},
     "output_type": "execute_result"
    }
   ],
   "source": [
    "# Creating interaction variables\n",
    "from sklearn.preprocessing import PolynomialFeatures\n",
    "\n",
    "interactions = PolynomialFeatures(interaction_only=True, include_bias=False)\n",
    "df_interactions = interactions.fit_transform(predictors)\n",
    "df_interactions = pd.DataFrame(df_interactions)\n",
    "df_interactions.shape"
   ]
  },
  {
   "cell_type": "markdown",
   "metadata": {},
   "source": [
    "##### These are many variables, but given that the data is quite balanced across all subcategories, we will have roughly 2000 data points for each variable"
   ]
  },
  {
   "cell_type": "markdown",
   "metadata": {},
   "source": [
    "### ---- 8 Create and evaluate models ----"
   ]
  },
  {
   "cell_type": "markdown",
   "metadata": {},
   "source": [
    "#### Model 1: Linear Regression with interactions"
   ]
  },
  {
   "cell_type": "code",
   "execution_count": 70,
   "metadata": {},
   "outputs": [
    {
     "name": "stdout",
     "output_type": "stream",
     "text": [
      "MSE: {'scores': array([354.27219516, 352.78020004, 354.2077984 , 354.47079198,\n",
      "       355.12167213]), 'avg_score': 354.17053154036404} \n",
      "\n",
      "R-squared: {'scores': array([0.76465251, 0.76456833, 0.76442469, 0.76354452, 0.76356393]), 'avg_score': 0.7641507953360925}\n"
     ]
    }
   ],
   "source": [
    "# This will take SEVERAL minutes\n",
    "MSE_interaction = estimator_cv(LinearRegression(), cv=5, data=df_interactions, target=salary_data, scoring='neg_mean_squared_error')\n",
    "MSE_interactions\n",
    "\n",
    "r2_interaction = estimator_cv(LinearRegression(), cv=5, data=df_interactions, target=salary_data, scoring='r2')\n",
    "r2_interaction"
   ]
  },
  {
   "cell_type": "markdown",
   "metadata": {},
   "source": [
    "##### Average MSE with interactions is 354 (down from 384 in the baseline model) while average R-squared is about 0.765 (little up from 0.74)"
   ]
  },
  {
   "cell_type": "markdown",
   "metadata": {},
   "source": [
    "#### Model 2: Boosted Random Forest"
   ]
  },
  {
   "cell_type": "code",
   "execution_count": 92,
   "metadata": {},
   "outputs": [
    {
     "name": "stdout",
     "output_type": "stream",
     "text": [
      "avg_score: 450.29297110693943 \n",
      " scores: [449.6369808  450.14251314 451.09941938]\n"
     ]
    }
   ],
   "source": [
    "# model here\n",
    "from sklearn.ensemble import AdaBoostRegressor\n",
    "from sklearn.ensemble import GradientBoostingRegressor\n",
    "from sklearn.model_selection import RandomizedSearchCV\n",
    "from sklearn.ensemble import RandomForestRegressor\n",
    "\n",
    "# Number of trees in random forest\n",
    "n_estimators = [int(x) for x in np.linspace(start = 10, stop = 100, num = 10)]\n",
    "learning_rate = np.linspace(start = 0.1, stop = 1.0, num = 10)\n",
    "loss_function = ['linear', 'exponential', 'square']\n",
    "\n",
    "# Create the random grid\n",
    "random_grid = {'n_estimators': n_estimators,\n",
    "               'learning_rate': learning_rate,\n",
    "               'loss': loss_function}\n",
    "\n",
    "abr = AdaBoostRegressor(n_estimators=10)\n",
    "rfr = RandomForestRegressor(n_estimators=25, max_depth=50, max_features=0.5)\n",
    "gbr = GradientBoostingRegressor(n_estimators=10) # features scaling?\n",
    "\n",
    "#abr_random = RandomizedSearchCV(estimator=abr, param_distributions=random_grid, n_iter=50, cv=3, random_state=42)\n",
    "# Fit the random search model\n",
    "#abr_random.fit(predictors, salary_data)\n",
    "#abr_random.best_score_\n",
    "\n",
    "MSE_rfr = estimator_cv(rfr, cv=3, data=df_interactions, target=salary_data, scoring='neg_mean_squared_error')\n",
    "MSE_rfr"
   ]
  },
  {
   "cell_type": "code",
   "execution_count": 17,
   "metadata": {},
   "outputs": [
    {
     "name": "stdout",
     "output_type": "stream",
     "text": [
      "2.3.1\n"
     ]
    }
   ],
   "source": [
    "import lightgbm\n",
    "print(lightgbm.__version__)"
   ]
  },
  {
   "cell_type": "code",
   "execution_count": 30,
   "metadata": {},
   "outputs": [
    {
     "name": "stdout",
     "output_type": "stream",
     "text": [
      "avg_score: 361.15846159152596 \n",
      " scores: [360.38054886 361.56497744 361.52985848]\n"
     ]
    }
   ],
   "source": [
    "from xgboost import XGBRegressor\n",
    "xgb = XGBRegressor(objective='reg:squarederror')\n",
    "MSE_xgb = estimator_cv(xgb, cv=3, data=predictors, target=salary_data, scoring='neg_mean_squared_error')\n",
    "MSE_xgb"
   ]
  },
  {
   "cell_type": "code",
   "execution_count": 29,
   "metadata": {},
   "outputs": [
    {
     "name": "stdout",
     "output_type": "stream",
     "text": [
      "avg_score: 357.6887584291189 \n",
      " scores: [357.83990281 356.19254976 357.70121304 357.88297595 358.82715058]\n"
     ]
    }
   ],
   "source": [
    "from lightgbm import LGBMRegressor\n",
    "from sklearn.model_selection import RandomizedSearchCV\n",
    "\n",
    "lgbm = LGBMRegressor()\n",
    "MSE_lgbm = estimator_cv(lgbm, cv=5, data=predictors, target=salary_data, scoring='neg_mean_squared_error')\n",
    "MSE_lgbm"
   ]
  },
  {
   "cell_type": "code",
   "execution_count": null,
   "metadata": {},
   "outputs": [
    {
     "name": "stdout",
     "output_type": "stream",
     "text": [
      "Learning rate set to 0.117982\n",
      "0:\tlearn: 36.7801175\ttotal: 116ms\tremaining: 1m 55s\n",
      "1:\tlearn: 35.1580667\ttotal: 156ms\tremaining: 1m 17s\n",
      "2:\tlearn: 33.6933172\ttotal: 202ms\tremaining: 1m 7s\n",
      "3:\tlearn: 32.4690238\ttotal: 240ms\tremaining: 59.8s\n",
      "4:\tlearn: 31.4331836\ttotal: 277ms\tremaining: 55.1s\n",
      "5:\tlearn: 30.3943463\ttotal: 310ms\tremaining: 51.4s\n",
      "6:\tlearn: 29.5276367\ttotal: 350ms\tremaining: 49.6s\n",
      "7:\tlearn: 28.6774710\ttotal: 391ms\tremaining: 48.4s\n",
      "8:\tlearn: 28.0151693\ttotal: 442ms\tremaining: 48.7s\n",
      "9:\tlearn: 27.3850398\ttotal: 481ms\tremaining: 47.6s\n",
      "10:\tlearn: 26.7889990\ttotal: 516ms\tremaining: 46.4s\n",
      "11:\tlearn: 26.2768460\ttotal: 553ms\tremaining: 45.5s\n",
      "12:\tlearn: 25.8176380\ttotal: 610ms\tremaining: 46.3s\n",
      "13:\tlearn: 25.4108936\ttotal: 653ms\tremaining: 46s\n",
      "14:\tlearn: 24.9436743\ttotal: 691ms\tremaining: 45.3s\n",
      "15:\tlearn: 24.6046223\ttotal: 726ms\tremaining: 44.6s\n",
      "16:\tlearn: 24.2910927\ttotal: 771ms\tremaining: 44.6s\n",
      "17:\tlearn: 24.0163439\ttotal: 838ms\tremaining: 45.7s\n",
      "18:\tlearn: 23.6731036\ttotal: 893ms\tremaining: 46.1s\n",
      "19:\tlearn: 23.2291253\ttotal: 949ms\tremaining: 46.5s\n",
      "20:\tlearn: 22.9989097\ttotal: 1.01s\tremaining: 47.3s\n",
      "21:\tlearn: 22.7839196\ttotal: 1.06s\tremaining: 47.2s\n",
      "22:\tlearn: 22.6033020\ttotal: 1.1s\tremaining: 46.8s\n",
      "23:\tlearn: 22.3833836\ttotal: 1.14s\tremaining: 46.3s\n",
      "24:\tlearn: 22.0885454\ttotal: 1.19s\tremaining: 46.5s\n",
      "25:\tlearn: 21.9200361\ttotal: 1.24s\tremaining: 46.4s\n",
      "26:\tlearn: 21.7798504\ttotal: 1.27s\tremaining: 45.9s\n",
      "27:\tlearn: 21.6450868\ttotal: 1.31s\tremaining: 45.6s\n",
      "28:\tlearn: 21.5489467\ttotal: 1.35s\tremaining: 45.2s\n",
      "29:\tlearn: 21.4213983\ttotal: 1.4s\tremaining: 45.2s\n",
      "30:\tlearn: 21.2946136\ttotal: 1.44s\tremaining: 44.9s\n",
      "31:\tlearn: 21.1129003\ttotal: 1.47s\tremaining: 44.5s\n",
      "32:\tlearn: 21.0193706\ttotal: 1.51s\tremaining: 44.1s\n",
      "33:\tlearn: 20.9353076\ttotal: 1.54s\tremaining: 43.8s\n",
      "34:\tlearn: 20.8496048\ttotal: 1.58s\tremaining: 43.7s\n",
      "35:\tlearn: 20.7737241\ttotal: 1.63s\tremaining: 43.6s\n",
      "36:\tlearn: 20.6862047\ttotal: 1.67s\tremaining: 43.3s\n",
      "37:\tlearn: 20.6262760\ttotal: 1.7s\tremaining: 43s\n",
      "38:\tlearn: 20.5576534\ttotal: 1.74s\tremaining: 42.8s\n",
      "39:\tlearn: 20.5067646\ttotal: 1.78s\tremaining: 42.7s\n",
      "40:\tlearn: 20.4508001\ttotal: 1.82s\tremaining: 42.6s\n",
      "41:\tlearn: 20.4089943\ttotal: 1.86s\tremaining: 42.5s\n",
      "42:\tlearn: 20.3551974\ttotal: 1.9s\tremaining: 42.3s\n",
      "43:\tlearn: 20.3200555\ttotal: 1.93s\tremaining: 42s\n",
      "44:\tlearn: 20.2608885\ttotal: 1.98s\tremaining: 42s\n",
      "45:\tlearn: 20.2228884\ttotal: 2.02s\tremaining: 42s\n",
      "46:\tlearn: 20.1764214\ttotal: 2.06s\tremaining: 41.8s\n",
      "47:\tlearn: 20.1063423\ttotal: 2.1s\tremaining: 41.6s\n",
      "48:\tlearn: 20.0780642\ttotal: 2.13s\tremaining: 41.4s\n",
      "49:\tlearn: 20.0454164\ttotal: 2.18s\tremaining: 41.4s\n",
      "50:\tlearn: 20.0216595\ttotal: 2.22s\tremaining: 41.3s\n",
      "51:\tlearn: 19.9988349\ttotal: 2.26s\tremaining: 41.1s\n",
      "52:\tlearn: 19.9675434\ttotal: 2.3s\tremaining: 41.1s\n",
      "53:\tlearn: 19.9071729\ttotal: 2.34s\tremaining: 41s\n",
      "54:\tlearn: 19.8532725\ttotal: 2.39s\tremaining: 41s\n",
      "55:\tlearn: 19.8093729\ttotal: 2.44s\tremaining: 41.1s\n",
      "56:\tlearn: 19.7876108\ttotal: 2.47s\tremaining: 40.9s\n",
      "57:\tlearn: 19.7676576\ttotal: 2.51s\tremaining: 40.8s\n",
      "58:\tlearn: 19.7393224\ttotal: 2.56s\tremaining: 40.9s\n",
      "59:\tlearn: 19.6950235\ttotal: 2.61s\tremaining: 40.9s\n",
      "60:\tlearn: 19.6628822\ttotal: 2.65s\tremaining: 40.8s\n",
      "61:\tlearn: 19.6430833\ttotal: 2.69s\tremaining: 40.6s\n",
      "62:\tlearn: 19.6197775\ttotal: 2.73s\tremaining: 40.5s\n",
      "63:\tlearn: 19.6001214\ttotal: 2.77s\tremaining: 40.6s\n",
      "64:\tlearn: 19.5821802\ttotal: 2.82s\tremaining: 40.5s\n",
      "65:\tlearn: 19.5648558\ttotal: 2.87s\tremaining: 40.5s\n",
      "66:\tlearn: 19.5535316\ttotal: 2.9s\tremaining: 40.4s\n",
      "67:\tlearn: 19.5271879\ttotal: 2.95s\tremaining: 40.5s\n",
      "68:\tlearn: 19.5076716\ttotal: 3s\tremaining: 40.5s\n",
      "69:\tlearn: 19.4850741\ttotal: 3.04s\tremaining: 40.4s\n",
      "70:\tlearn: 19.4600622\ttotal: 3.08s\tremaining: 40.3s\n",
      "71:\tlearn: 19.4324192\ttotal: 3.12s\tremaining: 40.2s\n",
      "72:\tlearn: 19.4116259\ttotal: 3.17s\tremaining: 40.3s\n",
      "73:\tlearn: 19.3873965\ttotal: 3.22s\tremaining: 40.2s\n",
      "74:\tlearn: 19.3754347\ttotal: 3.25s\tremaining: 40.1s\n",
      "75:\tlearn: 19.3653702\ttotal: 3.29s\tremaining: 40s\n",
      "76:\tlearn: 19.3469365\ttotal: 3.33s\tremaining: 40s\n",
      "77:\tlearn: 19.3383948\ttotal: 3.38s\tremaining: 39.9s\n",
      "78:\tlearn: 19.3247409\ttotal: 3.43s\tremaining: 40s\n",
      "79:\tlearn: 19.3120018\ttotal: 3.47s\tremaining: 39.9s\n",
      "80:\tlearn: 19.3018625\ttotal: 3.51s\tremaining: 39.8s\n",
      "81:\tlearn: 19.2936027\ttotal: 3.55s\tremaining: 39.7s\n",
      "82:\tlearn: 19.2834907\ttotal: 3.6s\tremaining: 39.7s\n",
      "83:\tlearn: 19.2680235\ttotal: 3.64s\tremaining: 39.7s\n",
      "84:\tlearn: 19.2490986\ttotal: 3.69s\tremaining: 39.7s\n",
      "85:\tlearn: 19.2381210\ttotal: 3.72s\tremaining: 39.6s\n",
      "86:\tlearn: 19.2299479\ttotal: 3.76s\tremaining: 39.5s\n",
      "87:\tlearn: 19.2241551\ttotal: 3.81s\tremaining: 39.5s\n",
      "88:\tlearn: 19.2115171\ttotal: 3.86s\tremaining: 39.5s\n",
      "89:\tlearn: 19.2052071\ttotal: 3.9s\tremaining: 39.4s\n",
      "90:\tlearn: 19.1926666\ttotal: 3.94s\tremaining: 39.3s\n",
      "91:\tlearn: 19.1839819\ttotal: 3.98s\tremaining: 39.3s\n",
      "92:\tlearn: 19.1749266\ttotal: 4.03s\tremaining: 39.3s\n",
      "93:\tlearn: 19.1696467\ttotal: 4.08s\tremaining: 39.3s\n",
      "94:\tlearn: 19.1615327\ttotal: 4.12s\tremaining: 39.2s\n",
      "95:\tlearn: 19.1564801\ttotal: 4.15s\tremaining: 39.1s\n",
      "96:\tlearn: 19.1466615\ttotal: 4.2s\tremaining: 39.1s\n",
      "97:\tlearn: 19.1414466\ttotal: 4.25s\tremaining: 39.1s\n",
      "98:\tlearn: 19.1319289\ttotal: 4.29s\tremaining: 39.1s\n",
      "99:\tlearn: 19.1210491\ttotal: 4.34s\tremaining: 39.1s\n",
      "100:\tlearn: 19.1131786\ttotal: 4.38s\tremaining: 39s\n",
      "101:\tlearn: 19.1055095\ttotal: 4.43s\tremaining: 39s\n",
      "102:\tlearn: 19.0963065\ttotal: 4.47s\tremaining: 39s\n",
      "103:\tlearn: 19.0890154\ttotal: 4.52s\tremaining: 39s\n",
      "104:\tlearn: 19.0817947\ttotal: 4.56s\tremaining: 38.9s\n",
      "105:\tlearn: 19.0778400\ttotal: 4.61s\tremaining: 38.9s\n",
      "106:\tlearn: 19.0725126\ttotal: 4.66s\tremaining: 38.9s\n",
      "107:\tlearn: 19.0648995\ttotal: 4.71s\tremaining: 38.9s\n",
      "108:\tlearn: 19.0605624\ttotal: 4.75s\tremaining: 38.8s\n",
      "109:\tlearn: 19.0544502\ttotal: 4.79s\tremaining: 38.7s\n",
      "110:\tlearn: 19.0482517\ttotal: 4.83s\tremaining: 38.7s\n",
      "111:\tlearn: 19.0427963\ttotal: 4.88s\tremaining: 38.7s\n",
      "112:\tlearn: 19.0376427\ttotal: 4.92s\tremaining: 38.6s\n",
      "113:\tlearn: 19.0309076\ttotal: 4.96s\tremaining: 38.6s\n",
      "114:\tlearn: 19.0246899\ttotal: 5.01s\tremaining: 38.5s\n",
      "115:\tlearn: 19.0214335\ttotal: 5.05s\tremaining: 38.5s\n",
      "116:\tlearn: 19.0162230\ttotal: 5.1s\tremaining: 38.5s\n",
      "117:\tlearn: 19.0136921\ttotal: 5.14s\tremaining: 38.5s\n",
      "118:\tlearn: 19.0077166\ttotal: 5.19s\tremaining: 38.4s\n",
      "119:\tlearn: 18.9984779\ttotal: 5.24s\tremaining: 38.4s\n",
      "120:\tlearn: 18.9956496\ttotal: 5.29s\tremaining: 38.4s\n",
      "121:\tlearn: 18.9905130\ttotal: 5.34s\tremaining: 38.4s\n",
      "122:\tlearn: 18.9867775\ttotal: 5.38s\tremaining: 38.4s\n",
      "123:\tlearn: 18.9831605\ttotal: 5.44s\tremaining: 38.4s\n",
      "124:\tlearn: 18.9792123\ttotal: 5.48s\tremaining: 38.4s\n",
      "125:\tlearn: 18.9739957\ttotal: 5.54s\tremaining: 38.4s\n",
      "126:\tlearn: 18.9699102\ttotal: 5.58s\tremaining: 38.4s\n",
      "127:\tlearn: 18.9664733\ttotal: 5.63s\tremaining: 38.4s\n",
      "128:\tlearn: 18.9641163\ttotal: 5.67s\tremaining: 38.3s\n",
      "129:\tlearn: 18.9599466\ttotal: 5.72s\tremaining: 38.3s\n",
      "130:\tlearn: 18.9571195\ttotal: 5.77s\tremaining: 38.3s\n",
      "131:\tlearn: 18.9550578\ttotal: 5.81s\tremaining: 38.2s\n",
      "132:\tlearn: 18.9515331\ttotal: 5.87s\tremaining: 38.2s\n",
      "133:\tlearn: 18.9482848\ttotal: 5.91s\tremaining: 38.2s\n",
      "134:\tlearn: 18.9461824\ttotal: 5.96s\tremaining: 38.2s\n",
      "135:\tlearn: 18.9436093\ttotal: 6s\tremaining: 38.1s\n",
      "136:\tlearn: 18.9401107\ttotal: 6.05s\tremaining: 38.1s\n",
      "137:\tlearn: 18.9369080\ttotal: 6.1s\tremaining: 38.1s\n",
      "138:\tlearn: 18.9342639\ttotal: 6.15s\tremaining: 38.1s\n",
      "139:\tlearn: 18.9325277\ttotal: 6.21s\tremaining: 38.2s\n",
      "140:\tlearn: 18.9301436\ttotal: 6.28s\tremaining: 38.3s\n",
      "141:\tlearn: 18.9282137\ttotal: 6.34s\tremaining: 38.3s\n",
      "142:\tlearn: 18.9266134\ttotal: 6.39s\tremaining: 38.3s\n",
      "143:\tlearn: 18.9244599\ttotal: 6.45s\tremaining: 38.3s\n",
      "144:\tlearn: 18.9220863\ttotal: 6.5s\tremaining: 38.3s\n",
      "145:\tlearn: 18.9194985\ttotal: 6.56s\tremaining: 38.4s\n",
      "146:\tlearn: 18.9178464\ttotal: 6.62s\tremaining: 38.4s\n",
      "147:\tlearn: 18.9164836\ttotal: 6.67s\tremaining: 38.4s\n",
      "148:\tlearn: 18.9149043\ttotal: 6.72s\tremaining: 38.4s\n",
      "149:\tlearn: 18.9130829\ttotal: 6.79s\tremaining: 38.5s\n",
      "150:\tlearn: 18.9113930\ttotal: 6.86s\tremaining: 38.6s\n",
      "151:\tlearn: 18.9098920\ttotal: 6.93s\tremaining: 38.7s\n",
      "152:\tlearn: 18.9080187\ttotal: 7s\tremaining: 38.7s\n",
      "153:\tlearn: 18.9068989\ttotal: 7.04s\tremaining: 38.7s\n",
      "154:\tlearn: 18.9049104\ttotal: 7.11s\tremaining: 38.8s\n",
      "155:\tlearn: 18.9035007\ttotal: 7.18s\tremaining: 38.8s\n",
      "156:\tlearn: 18.9022377\ttotal: 7.24s\tremaining: 38.9s\n",
      "157:\tlearn: 18.9008022\ttotal: 7.29s\tremaining: 38.8s\n",
      "158:\tlearn: 18.8994068\ttotal: 7.34s\tremaining: 38.8s\n",
      "159:\tlearn: 18.8981252\ttotal: 7.42s\tremaining: 38.9s\n",
      "160:\tlearn: 18.8970094\ttotal: 7.49s\tremaining: 39s\n",
      "161:\tlearn: 18.8953757\ttotal: 7.56s\tremaining: 39.1s\n",
      "162:\tlearn: 18.8943562\ttotal: 7.61s\tremaining: 39.1s\n",
      "163:\tlearn: 18.8927008\ttotal: 7.67s\tremaining: 39.1s\n",
      "164:\tlearn: 18.8914819\ttotal: 7.72s\tremaining: 39.1s\n",
      "165:\tlearn: 18.8903278\ttotal: 7.79s\tremaining: 39.1s\n",
      "166:\tlearn: 18.8893532\ttotal: 7.85s\tremaining: 39.1s\n",
      "167:\tlearn: 18.8884997\ttotal: 7.9s\tremaining: 39.1s\n",
      "168:\tlearn: 18.8866566\ttotal: 7.96s\tremaining: 39.2s\n",
      "169:\tlearn: 18.8850960\ttotal: 8.04s\tremaining: 39.2s\n",
      "170:\tlearn: 18.8838573\ttotal: 8.1s\tremaining: 39.3s\n",
      "171:\tlearn: 18.8830200\ttotal: 8.16s\tremaining: 39.3s\n",
      "172:\tlearn: 18.8810732\ttotal: 8.22s\tremaining: 39.3s\n",
      "173:\tlearn: 18.8801138\ttotal: 8.28s\tremaining: 39.3s\n",
      "174:\tlearn: 18.8790353\ttotal: 8.34s\tremaining: 39.3s\n",
      "175:\tlearn: 18.8778284\ttotal: 8.4s\tremaining: 39.3s\n",
      "176:\tlearn: 18.8768747\ttotal: 8.45s\tremaining: 39.3s\n",
      "177:\tlearn: 18.8757442\ttotal: 8.51s\tremaining: 39.3s\n",
      "178:\tlearn: 18.8750945\ttotal: 8.56s\tremaining: 39.3s\n",
      "179:\tlearn: 18.8740920\ttotal: 8.63s\tremaining: 39.3s\n",
      "180:\tlearn: 18.8731986\ttotal: 8.69s\tremaining: 39.3s\n",
      "181:\tlearn: 18.8724134\ttotal: 8.75s\tremaining: 39.3s\n",
      "182:\tlearn: 18.8715296\ttotal: 8.8s\tremaining: 39.3s\n",
      "183:\tlearn: 18.8707203\ttotal: 8.86s\tremaining: 39.3s\n",
      "184:\tlearn: 18.8701104\ttotal: 8.92s\tremaining: 39.3s\n",
      "185:\tlearn: 18.8694216\ttotal: 8.98s\tremaining: 39.3s\n",
      "186:\tlearn: 18.8686950\ttotal: 9.03s\tremaining: 39.3s\n",
      "187:\tlearn: 18.8679550\ttotal: 9.09s\tremaining: 39.3s\n",
      "188:\tlearn: 18.8673131\ttotal: 9.15s\tremaining: 39.2s\n",
      "189:\tlearn: 18.8665518\ttotal: 9.21s\tremaining: 39.3s\n",
      "190:\tlearn: 18.8656579\ttotal: 9.28s\tremaining: 39.3s\n",
      "191:\tlearn: 18.8650368\ttotal: 9.34s\tremaining: 39.3s\n",
      "192:\tlearn: 18.8644834\ttotal: 9.41s\tremaining: 39.3s\n",
      "193:\tlearn: 18.8636723\ttotal: 9.46s\tremaining: 39.3s\n",
      "194:\tlearn: 18.8630776\ttotal: 9.51s\tremaining: 39.3s\n",
      "195:\tlearn: 18.8625535\ttotal: 9.56s\tremaining: 39.2s\n",
      "196:\tlearn: 18.8615919\ttotal: 9.62s\tremaining: 39.2s\n",
      "197:\tlearn: 18.8608796\ttotal: 9.69s\tremaining: 39.2s\n",
      "198:\tlearn: 18.8602810\ttotal: 9.75s\tremaining: 39.2s\n",
      "199:\tlearn: 18.8595422\ttotal: 9.81s\tremaining: 39.3s\n",
      "200:\tlearn: 18.8588349\ttotal: 9.88s\tremaining: 39.3s\n",
      "201:\tlearn: 18.8582149\ttotal: 9.94s\tremaining: 39.3s\n",
      "202:\tlearn: 18.8576535\ttotal: 9.99s\tremaining: 39.2s\n",
      "203:\tlearn: 18.8570641\ttotal: 10.1s\tremaining: 39.2s\n",
      "204:\tlearn: 18.8564716\ttotal: 10.1s\tremaining: 39.2s\n",
      "205:\tlearn: 18.8559677\ttotal: 10.2s\tremaining: 39.2s\n",
      "206:\tlearn: 18.8555300\ttotal: 10.2s\tremaining: 39.1s\n",
      "207:\tlearn: 18.8550098\ttotal: 10.3s\tremaining: 39.2s\n",
      "208:\tlearn: 18.8544433\ttotal: 10.3s\tremaining: 39.1s\n",
      "209:\tlearn: 18.8538367\ttotal: 10.4s\tremaining: 39.1s\n",
      "210:\tlearn: 18.8532282\ttotal: 10.4s\tremaining: 39.1s\n",
      "211:\tlearn: 18.8524930\ttotal: 10.5s\tremaining: 39s\n",
      "212:\tlearn: 18.8518418\ttotal: 10.6s\tremaining: 39s\n",
      "213:\tlearn: 18.8514116\ttotal: 10.6s\tremaining: 39s\n",
      "214:\tlearn: 18.8508668\ttotal: 10.7s\tremaining: 39s\n",
      "215:\tlearn: 18.8504486\ttotal: 10.7s\tremaining: 38.9s\n",
      "216:\tlearn: 18.8499750\ttotal: 10.8s\tremaining: 38.9s\n",
      "217:\tlearn: 18.8494180\ttotal: 10.8s\tremaining: 38.9s\n",
      "218:\tlearn: 18.8490366\ttotal: 10.9s\tremaining: 38.8s\n",
      "219:\tlearn: 18.8486511\ttotal: 10.9s\tremaining: 38.8s\n",
      "220:\tlearn: 18.8480926\ttotal: 11s\tremaining: 38.8s\n",
      "221:\tlearn: 18.8475796\ttotal: 11s\tremaining: 38.7s\n",
      "222:\tlearn: 18.8470438\ttotal: 11.1s\tremaining: 38.7s\n",
      "223:\tlearn: 18.8466803\ttotal: 11.2s\tremaining: 38.6s\n",
      "224:\tlearn: 18.8462691\ttotal: 11.2s\tremaining: 38.6s\n",
      "225:\tlearn: 18.8456055\ttotal: 11.3s\tremaining: 38.5s\n",
      "226:\tlearn: 18.8451707\ttotal: 11.3s\tremaining: 38.5s\n",
      "227:\tlearn: 18.8446949\ttotal: 11.4s\tremaining: 38.4s\n",
      "228:\tlearn: 18.8441098\ttotal: 11.4s\tremaining: 38.4s\n",
      "229:\tlearn: 18.8436359\ttotal: 11.5s\tremaining: 38.4s\n",
      "230:\tlearn: 18.8431750\ttotal: 11.5s\tremaining: 38.3s\n",
      "231:\tlearn: 18.8427251\ttotal: 11.6s\tremaining: 38.3s\n",
      "232:\tlearn: 18.8423841\ttotal: 11.6s\tremaining: 38.2s\n",
      "233:\tlearn: 18.8418316\ttotal: 11.7s\tremaining: 38.2s\n",
      "234:\tlearn: 18.8413394\ttotal: 11.7s\tremaining: 38.1s\n",
      "235:\tlearn: 18.8408158\ttotal: 11.8s\tremaining: 38.1s\n",
      "236:\tlearn: 18.8403340\ttotal: 11.8s\tremaining: 38.1s\n",
      "237:\tlearn: 18.8400179\ttotal: 11.9s\tremaining: 38s\n",
      "238:\tlearn: 18.8395656\ttotal: 11.9s\tremaining: 38s\n",
      "239:\tlearn: 18.8390247\ttotal: 12s\tremaining: 37.9s\n",
      "240:\tlearn: 18.8385288\ttotal: 12s\tremaining: 37.9s\n",
      "241:\tlearn: 18.8380106\ttotal: 12.1s\tremaining: 37.8s\n",
      "242:\tlearn: 18.8376205\ttotal: 12.1s\tremaining: 37.8s\n",
      "243:\tlearn: 18.8371554\ttotal: 12.2s\tremaining: 37.8s\n",
      "244:\tlearn: 18.8366352\ttotal: 12.2s\tremaining: 37.7s\n",
      "245:\tlearn: 18.8362812\ttotal: 12.3s\tremaining: 37.6s\n",
      "246:\tlearn: 18.8358081\ttotal: 12.3s\tremaining: 37.6s\n",
      "247:\tlearn: 18.8353282\ttotal: 12.4s\tremaining: 37.6s\n",
      "248:\tlearn: 18.8347923\ttotal: 12.4s\tremaining: 37.5s\n",
      "249:\tlearn: 18.8344533\ttotal: 12.5s\tremaining: 37.5s\n",
      "250:\tlearn: 18.8340260\ttotal: 12.5s\tremaining: 37.4s\n",
      "251:\tlearn: 18.8336992\ttotal: 12.6s\tremaining: 37.4s\n",
      "252:\tlearn: 18.8333932\ttotal: 12.7s\tremaining: 37.4s\n",
      "253:\tlearn: 18.8329766\ttotal: 12.7s\tremaining: 37.3s\n",
      "254:\tlearn: 18.8326501\ttotal: 12.8s\tremaining: 37.3s\n",
      "255:\tlearn: 18.8321908\ttotal: 12.8s\tremaining: 37.3s\n",
      "256:\tlearn: 18.8318048\ttotal: 12.9s\tremaining: 37.2s\n",
      "257:\tlearn: 18.8314165\ttotal: 12.9s\tremaining: 37.2s\n",
      "258:\tlearn: 18.8310354\ttotal: 13s\tremaining: 37.1s\n",
      "259:\tlearn: 18.8306211\ttotal: 13s\tremaining: 37s\n",
      "260:\tlearn: 18.8303591\ttotal: 13.1s\tremaining: 37s\n",
      "261:\tlearn: 18.8299165\ttotal: 13.1s\tremaining: 37s\n",
      "262:\tlearn: 18.8295878\ttotal: 13.2s\tremaining: 36.9s\n",
      "263:\tlearn: 18.8291536\ttotal: 13.2s\tremaining: 36.9s\n",
      "264:\tlearn: 18.8287053\ttotal: 13.3s\tremaining: 36.8s\n",
      "265:\tlearn: 18.8283538\ttotal: 13.3s\tremaining: 36.8s\n",
      "266:\tlearn: 18.8280144\ttotal: 13.4s\tremaining: 36.7s\n",
      "267:\tlearn: 18.8277038\ttotal: 13.4s\tremaining: 36.7s\n",
      "268:\tlearn: 18.8273723\ttotal: 13.5s\tremaining: 36.6s\n",
      "269:\tlearn: 18.8268694\ttotal: 13.5s\tremaining: 36.6s\n",
      "270:\tlearn: 18.8264314\ttotal: 13.6s\tremaining: 36.5s\n",
      "271:\tlearn: 18.8260846\ttotal: 13.6s\tremaining: 36.5s\n",
      "272:\tlearn: 18.8257129\ttotal: 13.7s\tremaining: 36.4s\n",
      "273:\tlearn: 18.8252578\ttotal: 13.7s\tremaining: 36.4s\n",
      "274:\tlearn: 18.8248070\ttotal: 13.8s\tremaining: 36.3s\n",
      "275:\tlearn: 18.8245025\ttotal: 13.8s\tremaining: 36.3s\n",
      "276:\tlearn: 18.8241326\ttotal: 13.9s\tremaining: 36.2s\n",
      "277:\tlearn: 18.8238538\ttotal: 13.9s\tremaining: 36.2s\n",
      "278:\tlearn: 18.8235902\ttotal: 14s\tremaining: 36.2s\n",
      "279:\tlearn: 18.8229136\ttotal: 14s\tremaining: 36.1s\n",
      "280:\tlearn: 18.8224755\ttotal: 14.1s\tremaining: 36s\n",
      "281:\tlearn: 18.8221008\ttotal: 14.1s\tremaining: 36s\n",
      "282:\tlearn: 18.8218451\ttotal: 14.2s\tremaining: 35.9s\n",
      "283:\tlearn: 18.8214753\ttotal: 14.2s\tremaining: 35.9s\n",
      "284:\tlearn: 18.8211365\ttotal: 14.3s\tremaining: 35.8s\n",
      "285:\tlearn: 18.8207790\ttotal: 14.3s\tremaining: 35.8s\n",
      "286:\tlearn: 18.8205012\ttotal: 14.4s\tremaining: 35.8s\n",
      "287:\tlearn: 18.8201287\ttotal: 14.4s\tremaining: 35.7s\n",
      "288:\tlearn: 18.8197722\ttotal: 14.5s\tremaining: 35.7s\n",
      "289:\tlearn: 18.8194837\ttotal: 14.5s\tremaining: 35.6s\n",
      "290:\tlearn: 18.8190160\ttotal: 14.6s\tremaining: 35.6s\n",
      "291:\tlearn: 18.8185112\ttotal: 14.6s\tremaining: 35.5s\n",
      "292:\tlearn: 18.8181394\ttotal: 14.7s\tremaining: 35.4s\n",
      "293:\tlearn: 18.8178122\ttotal: 14.7s\tremaining: 35.4s\n",
      "294:\tlearn: 18.8174227\ttotal: 14.8s\tremaining: 35.3s\n",
      "295:\tlearn: 18.8171376\ttotal: 14.8s\tremaining: 35.3s\n",
      "296:\tlearn: 18.8168168\ttotal: 14.9s\tremaining: 35.2s\n",
      "297:\tlearn: 18.8164876\ttotal: 14.9s\tremaining: 35.2s\n",
      "298:\tlearn: 18.8162595\ttotal: 15s\tremaining: 35.1s\n",
      "299:\tlearn: 18.8160372\ttotal: 15s\tremaining: 35.1s\n",
      "300:\tlearn: 18.8156341\ttotal: 15.1s\tremaining: 35s\n",
      "301:\tlearn: 18.8153822\ttotal: 15.1s\tremaining: 35s\n",
      "302:\tlearn: 18.8150840\ttotal: 15.2s\tremaining: 35s\n",
      "303:\tlearn: 18.8148651\ttotal: 15.3s\tremaining: 34.9s\n",
      "304:\tlearn: 18.8145229\ttotal: 15.3s\tremaining: 34.9s\n",
      "305:\tlearn: 18.8143092\ttotal: 15.4s\tremaining: 34.8s\n",
      "306:\tlearn: 18.8140483\ttotal: 15.4s\tremaining: 34.8s\n",
      "307:\tlearn: 18.8136545\ttotal: 15.5s\tremaining: 34.7s\n",
      "308:\tlearn: 18.8134395\ttotal: 15.5s\tremaining: 34.7s\n",
      "309:\tlearn: 18.8131279\ttotal: 15.5s\tremaining: 34.6s\n",
      "310:\tlearn: 18.8128009\ttotal: 15.6s\tremaining: 34.5s\n",
      "311:\tlearn: 18.8124610\ttotal: 15.7s\tremaining: 34.5s\n",
      "312:\tlearn: 18.8121243\ttotal: 15.7s\tremaining: 34.5s\n",
      "313:\tlearn: 18.8118700\ttotal: 15.8s\tremaining: 34.4s\n",
      "314:\tlearn: 18.8114878\ttotal: 15.8s\tremaining: 34.4s\n",
      "315:\tlearn: 18.8110179\ttotal: 15.9s\tremaining: 34.3s\n",
      "316:\tlearn: 18.8107358\ttotal: 15.9s\tremaining: 34.3s\n",
      "317:\tlearn: 18.8103150\ttotal: 16s\tremaining: 34.2s\n",
      "318:\tlearn: 18.8100057\ttotal: 16s\tremaining: 34.2s\n",
      "319:\tlearn: 18.8096909\ttotal: 16.1s\tremaining: 34.1s\n",
      "320:\tlearn: 18.8094484\ttotal: 16.1s\tremaining: 34.1s\n",
      "321:\tlearn: 18.8090211\ttotal: 16.2s\tremaining: 34s\n",
      "322:\tlearn: 18.8086819\ttotal: 16.2s\tremaining: 34s\n",
      "323:\tlearn: 18.8084717\ttotal: 16.3s\tremaining: 33.9s\n",
      "324:\tlearn: 18.8082141\ttotal: 16.3s\tremaining: 33.9s\n",
      "325:\tlearn: 18.8078470\ttotal: 16.4s\tremaining: 33.8s\n",
      "326:\tlearn: 18.8076496\ttotal: 16.4s\tremaining: 33.8s\n",
      "327:\tlearn: 18.8073445\ttotal: 16.5s\tremaining: 33.7s\n",
      "328:\tlearn: 18.8069599\ttotal: 16.5s\tremaining: 33.7s\n",
      "329:\tlearn: 18.8067679\ttotal: 16.6s\tremaining: 33.6s\n",
      "330:\tlearn: 18.8065422\ttotal: 16.6s\tremaining: 33.6s\n",
      "331:\tlearn: 18.8062115\ttotal: 16.7s\tremaining: 33.5s\n",
      "332:\tlearn: 18.8059104\ttotal: 16.7s\tremaining: 33.5s\n",
      "333:\tlearn: 18.8056186\ttotal: 16.8s\tremaining: 33.4s\n",
      "334:\tlearn: 18.8054354\ttotal: 16.8s\tremaining: 33.4s\n",
      "335:\tlearn: 18.8051040\ttotal: 16.9s\tremaining: 33.3s\n",
      "336:\tlearn: 18.8047621\ttotal: 16.9s\tremaining: 33.3s\n",
      "337:\tlearn: 18.8045458\ttotal: 17s\tremaining: 33.2s\n",
      "338:\tlearn: 18.8041948\ttotal: 17s\tremaining: 33.1s\n",
      "339:\tlearn: 18.8040267\ttotal: 17s\tremaining: 33.1s\n",
      "340:\tlearn: 18.8036881\ttotal: 17.1s\tremaining: 33s\n",
      "341:\tlearn: 18.8034443\ttotal: 17.1s\tremaining: 33s\n",
      "342:\tlearn: 18.8029935\ttotal: 17.2s\tremaining: 32.9s\n",
      "343:\tlearn: 18.8026817\ttotal: 17.2s\tremaining: 32.9s\n",
      "344:\tlearn: 18.8024971\ttotal: 17.3s\tremaining: 32.8s\n",
      "345:\tlearn: 18.8022810\ttotal: 17.3s\tremaining: 32.8s\n",
      "346:\tlearn: 18.8019520\ttotal: 17.4s\tremaining: 32.7s\n",
      "347:\tlearn: 18.8017556\ttotal: 17.4s\tremaining: 32.7s\n",
      "348:\tlearn: 18.8014334\ttotal: 17.5s\tremaining: 32.6s\n",
      "349:\tlearn: 18.8011757\ttotal: 17.5s\tremaining: 32.6s\n",
      "350:\tlearn: 18.8009673\ttotal: 17.6s\tremaining: 32.5s\n",
      "351:\tlearn: 18.8006245\ttotal: 17.6s\tremaining: 32.5s\n",
      "352:\tlearn: 18.8004619\ttotal: 17.7s\tremaining: 32.4s\n",
      "353:\tlearn: 18.8002422\ttotal: 17.7s\tremaining: 32.4s\n",
      "354:\tlearn: 18.7999055\ttotal: 17.8s\tremaining: 32.3s\n",
      "355:\tlearn: 18.7995812\ttotal: 17.8s\tremaining: 32.3s\n",
      "356:\tlearn: 18.7992288\ttotal: 17.9s\tremaining: 32.2s\n",
      "357:\tlearn: 18.7989293\ttotal: 17.9s\tremaining: 32.2s\n",
      "358:\tlearn: 18.7986022\ttotal: 18s\tremaining: 32.1s\n",
      "359:\tlearn: 18.7982448\ttotal: 18s\tremaining: 32.1s\n",
      "360:\tlearn: 18.7979647\ttotal: 18.1s\tremaining: 32s\n",
      "361:\tlearn: 18.7976869\ttotal: 18.1s\tremaining: 32s\n",
      "362:\tlearn: 18.7973535\ttotal: 18.2s\tremaining: 31.9s\n",
      "363:\tlearn: 18.7971091\ttotal: 18.2s\tremaining: 31.9s\n",
      "364:\tlearn: 18.7969176\ttotal: 18.3s\tremaining: 31.8s\n",
      "365:\tlearn: 18.7964178\ttotal: 18.3s\tremaining: 31.8s\n",
      "366:\tlearn: 18.7961439\ttotal: 18.4s\tremaining: 31.7s\n",
      "367:\tlearn: 18.7957440\ttotal: 18.4s\tremaining: 31.7s\n",
      "368:\tlearn: 18.7954577\ttotal: 18.5s\tremaining: 31.6s\n",
      "369:\tlearn: 18.7952118\ttotal: 18.5s\tremaining: 31.6s\n",
      "370:\tlearn: 18.7950142\ttotal: 18.6s\tremaining: 31.5s\n",
      "371:\tlearn: 18.7947121\ttotal: 18.6s\tremaining: 31.5s\n",
      "372:\tlearn: 18.7943461\ttotal: 18.7s\tremaining: 31.4s\n",
      "373:\tlearn: 18.7940926\ttotal: 18.7s\tremaining: 31.3s\n",
      "374:\tlearn: 18.7938304\ttotal: 18.8s\tremaining: 31.3s\n",
      "375:\tlearn: 18.7935349\ttotal: 18.8s\tremaining: 31.2s\n",
      "376:\tlearn: 18.7932539\ttotal: 18.9s\tremaining: 31.2s\n",
      "377:\tlearn: 18.7928768\ttotal: 18.9s\tremaining: 31.1s\n",
      "378:\tlearn: 18.7927292\ttotal: 19s\tremaining: 31.1s\n",
      "379:\tlearn: 18.7925648\ttotal: 19s\tremaining: 31s\n",
      "380:\tlearn: 18.7923138\ttotal: 19.1s\tremaining: 31s\n",
      "381:\tlearn: 18.7920498\ttotal: 19.1s\tremaining: 30.9s\n",
      "382:\tlearn: 18.7917784\ttotal: 19.2s\tremaining: 30.9s\n",
      "383:\tlearn: 18.7916039\ttotal: 19.2s\tremaining: 30.9s\n",
      "384:\tlearn: 18.7913638\ttotal: 19.3s\tremaining: 30.8s\n",
      "385:\tlearn: 18.7910746\ttotal: 19.3s\tremaining: 30.7s\n",
      "386:\tlearn: 18.7908886\ttotal: 19.4s\tremaining: 30.7s\n",
      "387:\tlearn: 18.7905253\ttotal: 19.4s\tremaining: 30.7s\n"
     ]
    }
   ],
   "source": [
    "# catboost\n",
    "from catboost import CatBoostRegressor\n",
    "\n",
    "cb = CatBoostRegressor()\n",
    "MSE_cb = estimator_cv(cb, cv=3, data=predictors, target=salary_data, scoring='neg_mean_squared_error')\n",
    "MSE_cb"
   ]
  },
  {
   "cell_type": "markdown",
   "metadata": {},
   "source": [
    "### ---- 9 Test models on unseen data ----"
   ]
  },
  {
   "cell_type": "markdown",
   "metadata": {},
   "source": [
    "#### Testing Linear Regression model"
   ]
  },
  {
   "cell_type": "code",
   "execution_count": 86,
   "metadata": {},
   "outputs": [
    {
     "name": "stdout",
     "output_type": "stream",
     "text": [
      "R2: 0.7628933053563735\n",
      "MSE: 353.5252995857336\n"
     ]
    }
   ],
   "source": [
    "OLS.fit(df_interactions, salary_data)\n",
    "\n",
    "test_features_inter = interactions.fit_transform(test_features)\n",
    "test_features_inter = pd.DataFrame(test_features_inter)\n",
    "\n",
    "preds_interactions = OLS.predict(test_features_inter) # testing on 250k values\n",
    "print(\"R2:\", OLS.score(test_features_inter, test_salaries))\n",
    "print(\"MSE:\", mean_squared_error(test_salaries, preds_interactions))\n",
    "# Results on completely unseen data are consistent with those in 5-fold CV, so the model is stable\n",
    "# The increased bias with addition of so many variables did not result by pure chance but by real explanatory power"
   ]
  },
  {
   "cell_type": "markdown",
   "metadata": {},
   "source": [
    "#### Testing Tuned Random Forest"
   ]
  },
  {
   "cell_type": "markdown",
   "metadata": {},
   "source": [
    "### ---- 10 Select best model  ----"
   ]
  },
  {
   "cell_type": "code",
   "execution_count": null,
   "metadata": {},
   "outputs": [],
   "source": [
    "#select the model with the lowest error as your \"prodcuction\" model"
   ]
  },
  {
   "cell_type": "markdown",
   "metadata": {},
   "source": [
    "## Part 4 - DEPLOY"
   ]
  },
  {
   "cell_type": "markdown",
   "metadata": {},
   "source": [
    "### ---- 11 Automate pipeline ----"
   ]
  },
  {
   "cell_type": "code",
   "execution_count": null,
   "metadata": {},
   "outputs": [],
   "source": [
    "#write script that trains model on entire training set, saves model to disk,\n",
    "#and scores the \"test\" dataset"
   ]
  },
  {
   "cell_type": "markdown",
   "metadata": {},
   "source": [
    "### ---- 12 Deploy solution ----"
   ]
  },
  {
   "cell_type": "code",
   "execution_count": 16,
   "metadata": {},
   "outputs": [],
   "source": [
    "#save your prediction to a csv file or optionally save them as a table in a SQL database\n",
    "#additionally, you want to save a visualization and summary of your prediction and feature importances\n",
    "#these visualizations and summaries will be extremely useful to business stakeholders"
   ]
  },
  {
   "cell_type": "markdown",
   "metadata": {},
   "source": [
    "### ---- 13 Measure efficacy ----"
   ]
  },
  {
   "cell_type": "markdown",
   "metadata": {},
   "source": [
    "We'll skip this step since we don't have the outcomes for the test data"
   ]
  },
  {
   "cell_type": "code",
   "execution_count": null,
   "metadata": {},
   "outputs": [],
   "source": []
  },
  {
   "cell_type": "code",
   "execution_count": null,
   "metadata": {},
   "outputs": [],
   "source": []
  },
  {
   "cell_type": "code",
   "execution_count": null,
   "metadata": {},
   "outputs": [],
   "source": []
  },
  {
   "cell_type": "code",
   "execution_count": null,
   "metadata": {},
   "outputs": [],
   "source": []
  }
 ],
 "metadata": {
  "kernelspec": {
   "display_name": "Python 3",
   "language": "python",
   "name": "python3"
  },
  "language_info": {
   "codemirror_mode": {
    "name": "ipython",
    "version": 3
   },
   "file_extension": ".py",
   "mimetype": "text/x-python",
   "name": "python",
   "nbconvert_exporter": "python",
   "pygments_lexer": "ipython3",
   "version": "3.7.6"
  }
 },
 "nbformat": 4,
 "nbformat_minor": 4
}
